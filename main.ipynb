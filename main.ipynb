{
 "cells": [
  {
   "cell_type": "markdown",
   "source": [
    "# Topic modeling à partir des données de Reddit"
   ],
   "metadata": {}
  },
  {
   "cell_type": "code",
   "execution_count": 59,
   "source": [
    "import os\n",
    "import json\n",
    "import re\n",
    "import time\n",
    "import csv\n",
    "from datetime import datetime\n",
    "import requests\n",
    "\n",
    "import numpy as np\n",
    "import pandas as pd\n",
    "import umap\n",
    "import hdbscan\n",
    "import joblib\n",
    "from sklearn.feature_extraction.text import TfidfVectorizer\n",
    "from sklearn.metrics.pairwise import cosine_similarity\n",
    "from scipy.spatial.distance import cosine as cosine_distance\n",
    "from sklearn import metrics\n",
    "import numpy as np\n",
    "import matplotlib.pyplot as plt\n",
    "from matplotlib.colors import to_hex\n",
    "from bokeh.layouts import row, column, layout\n",
    "from bokeh.models import (\n",
    "    ColumnDataSource, HoverTool, Range1d, Title, TableColumn, DataTable,\n",
    "    StringFormatter, CustomJS, Div, Button\n",
    "    )\n",
    "from bokeh.models.widgets import Tabs, Panel\n",
    "from bokeh.plotting import figure, curdoc, show\n",
    "from bokeh.io import output_notebook"
   ],
   "outputs": [],
   "metadata": {}
  },
  {
   "cell_type": "markdown",
   "source": [
    "## Récupération des données"
   ],
   "metadata": {}
  },
  {
   "cell_type": "markdown",
   "source": [
    "### Configuration pour requêter l'API"
   ],
   "metadata": {}
  },
  {
   "cell_type": "code",
   "execution_count": 53,
   "source": [
    "access_token = \"changeMe\""
   ],
   "outputs": [],
   "metadata": {}
  },
  {
   "cell_type": "code",
   "execution_count": 54,
   "source": [
    "def get_batch(sub, after, before, token):\n",
    "    \"\"\"Fetch a batch of submissions from the API.\"\"\"\n",
    "    url = (f\"https://api.pushshift.io/reddit/search/submission/?subreddit={sub}\"\n",
    "           f\"&access_token={token}\"\n",
    "           f\"&after={after}&before={before}\"\n",
    "           \"&size=500\")\n",
    "    req = requests.get(url)\n",
    "    data = json.loads(req.text)\n",
    "    return data['data']"
   ],
   "outputs": [],
   "metadata": {}
  },
  {
   "cell_type": "markdown",
   "source": [
    "### Extraction et nettoyage du texte"
   ],
   "metadata": {}
  },
  {
   "cell_type": "code",
   "execution_count": 55,
   "source": [
    "def convert_datetime(dto):\n",
    "    \"\"\"Convert Python datetime object to timestamp and int YYYYMMDD.\"\"\"\n",
    "    date_timestamp = int(datetime.timestamp(dto))\n",
    "    date_int = dto.year * 10000 + dto.month * 100 + dto.day\n",
    "    return date_timestamp, date_int\n",
    "\n",
    "def preprocess_self_text(text):\n",
    "    \"\"\"Remove recurrent noisy elements from self-texts.\"\"\"\n",
    "    text = text.replace(\"|\", \" \")  # Avoid pb with sep for csv\n",
    "    text = re.sub(r\"(_____\\s+&gt.+)\", \" \", text)  # Remove footnote\n",
    "    text = text.replace(\"[deleted]\", \" \").replace(\"[removed]\", \" \")\n",
    "    text = text.strip()  # Remove excessing space at the end\n",
    "    return text\n",
    "\n",
    "def extract_info(subm):\n",
    "    \"\"\"Extract relevant info from the data dictionary of a submission.\"\"\"\n",
    "    title = subm['title']\n",
    "    regexp_match = re.search(r\"(CMV|cmv):\\s?(.+)\", title)\n",
    "    if regexp_match:\n",
    "        # Extract proper title\n",
    "        title_sub = regexp_match.group(2).strip()\n",
    "        if title_sub[-1] != \".\":\n",
    "            title_sub = title_sub + \".\"\n",
    "        # Extract other relevant info\n",
    "        subm_id = subm[\"id\"]\n",
    "        author = subm[\"author\"]\n",
    "        try:\n",
    "            self_text = preprocess_self_text(subm[\"selftext\"])\n",
    "        except KeyError:\n",
    "            self_text = \"\"\n",
    "        timestamp = subm[\"created_utc\"]\n",
    "        nb_comments = subm[\"num_comments\"]\n",
    "        score = subm[\"score\"]\n",
    "\n",
    "        return subm_id, title_sub, author, timestamp, nb_comments, score, self_text\n",
    "\n",
    "    return None"
   ],
   "outputs": [],
   "metadata": {}
  },
  {
   "cell_type": "markdown",
   "source": [
    "### Récupération des documents"
   ],
   "metadata": {}
  },
  {
   "cell_type": "code",
   "execution_count": 56,
   "source": [
    "def get_all_titles(sub, start_timestamp, end_timestamp, token, path_save):\n",
    "    \"\"\"Extract all titles from a sub between two dates.\"\"\"\n",
    "    data = get_batch(sub, start_timestamp, end_timestamp, token)\n",
    "    batch_data = []\n",
    "    while data:\n",
    "        # Get current batch timerange\n",
    "        batch_start = str(datetime.fromtimestamp(data[0]['created_utc']))\n",
    "        batch_end = str(datetime.fromtimestamp(data[-1]['created_utc']))\n",
    "\n",
    "        # Extract data from current batch\n",
    "        for submission in data:\n",
    "            subm_data = extract_info(submission)\n",
    "            if subm_data is not None:\n",
    "                batch_data.append(subm_data)\n",
    "        new_start_timestamp = data[-1]['created_utc']  # Start date of next batch\n",
    "\n",
    "        print(f\"Batch processed : {batch_start} - {batch_end}. \"\n",
    "              f\"Next batch start timestamp : {new_start_timestamp}.\")\n",
    "\n",
    "        # Get next batch\n",
    "        try:\n",
    "            data = get_batch(sub, new_start_timestamp, end_timestamp, token)\n",
    "        except json.JSONDecodeError:\n",
    "            # Retry after sleep time\n",
    "            time.sleep(5)\n",
    "            try:\n",
    "                data = get_batch(sub, new_start_timestamp, end_timestamp, token)\n",
    "            except json.JSONDecodeError:\n",
    "                print(f\"Batch failed after retry : {batch_start} - {batch_end}.\")\n",
    "                continue\n",
    "                \n",
    "    df_titles = pd.DataFrame(data=batch_data)\n",
    "                \n",
    "    return df_titles"
   ],
   "outputs": [],
   "metadata": {}
  },
  {
   "cell_type": "code",
   "execution_count": null,
   "source": [
    "SUB = \"changemyview\"\n",
    "START_DATE = datetime(2015, 1, 1)\n",
    "END_DATE = datetime(2020, 12, 1)\n",
    "\n",
    "START_DATE_TMSTP, START_DATE_INT = pushshift.convert_datetime(START_DATE)\n",
    "END_DATE_TMSTP, END_DATE_INT = pushshift.convert_datetime(END_DATE)\n",
    "\n",
    "df_titles = pushshift.get_all_titles(sub=\"changemyview\",\n",
    "                                      start_timestamp=datetime(2015, 1, 1),\n",
    "                                      end_timestamp=datetime(2020, 12, 1),\n",
    "                                      token=access_token\n",
    "                                      path_save=\n",
    "                                     )"
   ],
   "outputs": [],
   "metadata": {}
  },
  {
   "cell_type": "markdown",
   "source": [
    "### Export des données"
   ],
   "metadata": {}
  },
  {
   "cell_type": "code",
   "execution_count": null,
   "source": [
    "df_titles.to_csv(\"data/titles_cmv_2015_2020.csv\", , sep=\"|\", index=False)"
   ],
   "outputs": [],
   "metadata": {}
  },
  {
   "cell_type": "code",
   "execution_count": 61,
   "source": [
    "df_titles = pd.read_csv(\"data/titles_cmv_2015_2020.csv\", sep=\"|\")\n",
    "print(df_titles[\"title\"].values[:10])"
   ],
   "outputs": [
    {
     "output_type": "stream",
     "name": "stdout",
     "text": [
      "['Serial killers cannot change and cannot be rehabilitated.'\n",
      " 'Serial killers cannot be rehabilitated.'\n",
      " 'The minimum wage should not be raised.'\n",
      " 'The most financially successful film released in 2014 was likely Planes: Fire and Rescue.'\n",
      " 'Copyright law should include a \"continued use\" provision.'\n",
      " 'Mother fatally shot by concealed gun from 2 year old son is at fault for her incident.'\n",
      " 'I believe the police abuse people.'\n",
      " 'UN Peacekeepers should have the power to engage in offensive operations.'\n",
      " \"Timed essays like the SAT don't properly measure one's writing skills, nor their critical thinking skills.\"\n",
      " \"I believe in a supernatural force and don't believe in the Big Bang, evolution, or gravity.\"]\n"
     ]
    }
   ],
   "metadata": {}
  },
  {
   "cell_type": "markdown",
   "source": [
    "## Modélisation : topic modeling"
   ],
   "metadata": {}
  },
  {
   "cell_type": "markdown",
   "source": [
    "![proj-illustration](img/doc_word_embedding.svg)"
   ],
   "metadata": {}
  },
  {
   "cell_type": "markdown",
   "source": [
    "source : https://github.com/ddangelov/Top2Vec"
   ],
   "metadata": {}
  },
  {
   "cell_type": "markdown",
   "source": [
    "### Projection dans un espace sémantique (Sentence Transformer)"
   ],
   "metadata": {}
  },
  {
   "cell_type": "code",
   "execution_count": null,
   "source": [
    "def embed_corpus(documents, embedding_model):\n",
    "    \"\"\"Compute document embeddings using a sentence-transfomer model.\"\"\"\n",
    "    model = SentenceTransformer(embedding_model)\n",
    "    document_vectors = model.encode(documents)\n",
    "    document_vectors = document_vectors\n",
    "    return document_vectors"
   ],
   "outputs": [],
   "metadata": {}
  },
  {
   "cell_type": "markdown",
   "source": [
    "### Réduction de la dimension (UMAP)"
   ],
   "metadata": {}
  },
  {
   "cell_type": "code",
   "execution_count": null,
   "source": [
    "def compute_umap(document_vectors, n_components, n_neighbors,\n",
    "                random_state=None):\n",
    "    \"\"\"Compute low dimensional embeddings using the UMAP algorithm.\"\"\"\n",
    "    umap_model = umap.UMAP(n_neighbors=n_neighbors,\n",
    "                           n_components=n_components,\n",
    "                           min_dist=0,  # Maximize points density\n",
    "                           metric='cosine',\n",
    "                           low_memory=True,\n",
    "                           random_state=random_state\n",
    "                           )\n",
    "    umap_model.fit(document_vectors)\n",
    "    return umap_model"
   ],
   "outputs": [],
   "metadata": {}
  },
  {
   "cell_type": "markdown",
   "source": [
    "### Clustering par densité (HDBSCAN)"
   ],
   "metadata": {}
  },
  {
   "cell_type": "code",
   "execution_count": null,
   "source": [
    "def compute_hdbscan(document_vectors, min_cluster_size, min_samples,\n",
    "                    cluster_selection_method, prediction_data=False):\n",
    "    \"\"\"Perform density-based clustering using the HDBSCAN algorithm.\"\"\"\n",
    "    if min_samples is None:\n",
    "        min_samples = min_cluster_size\n",
    "\n",
    "    # Compute HDBSCAN clusters\n",
    "    hdbscan_model = hdbscan.HDBSCAN(min_cluster_size=min_cluster_size,\n",
    "                                    min_samples=min_samples,\n",
    "                                    metric='euclidean',\n",
    "                                    cluster_selection_method=cluster_selection_method,\n",
    "                                    prediction_data=prediction_data\n",
    "                                    )\n",
    "    hdbscan_model.fit(document_vectors)\n",
    "\n",
    "    return hdbscan_model"
   ],
   "outputs": [],
   "metadata": {}
  },
  {
   "cell_type": "markdown",
   "source": [
    "### Charactérisation des topics (Class TF-IDF)"
   ],
   "metadata": {}
  },
  {
   "cell_type": "code",
   "execution_count": null,
   "source": [
    "def topic_characterization(corpus, doc_topic, subset_docs=None, n_words=30):\n",
    "    \"\"\"Characterize each topic by the top n words wight highest tf-idf score.\"\"\"\n",
    "    # Compute tf-idf matrix on the relevant corpus\n",
    "    vectorizer = TfidfVectorizer(strip_accents=\"ascii\",\n",
    "                                 lowercase=True,\n",
    "                                 token_pattern=self.token_pattern,\n",
    "                                 stop_words=\"english\"\n",
    "                                 )\n",
    "    tfidf_model = vectorizer.fit(corpus)\n",
    "    words = np.array(tfidf_model.get_feature_names())\n",
    "\n",
    "    topic_rep_words = []\n",
    "    topic_vectors_tfidf = []\n",
    "    for topic in np.unique(doc_topic):\n",
    "        # Join all documents of the topic as a single string\n",
    "        doc_idxs = np.where(doc_topic == topic)[0]\n",
    "        big_doc_topic = \" \".join(corpus[doc_idxs])\n",
    "        # Compute tf-idf embedding of this meta -document\n",
    "        topic_tfidf = vectorizer.transform([big_doc_topic]).toarray()[0]\n",
    "        topic_vectors_tfidf.append(topic_tfidf)\n",
    "        # Characterize topic with top n words wight highest tf-idf score\n",
    "        top_scores = np.flip(np.argsort(topic_tfidf))\n",
    "        top_words = words[top_scores][:n_words]\n",
    "        topic_rep_words.append(top_words)\n",
    "\n",
    "    topic_rep_words = np.array(topic_rep_words)\n",
    "    topic_vectors_tfidf = np.array(topic_vectors_tfidf)\n",
    "\n",
    "    return topic_rep_words, topic_vectors_tfidf"
   ],
   "outputs": [],
   "metadata": {}
  },
  {
   "cell_type": "markdown",
   "source": [
    "## Sélection de modèles et évaluation"
   ],
   "metadata": {}
  },
  {
   "cell_type": "code",
   "execution_count": null,
   "source": [
    "y_true = true_topics\n",
    "\n",
    "n_comp_range = [3, 5, 7]\n",
    "n_neigh_range = [30, 50, 70]\n",
    "min_size_range = [10, 15, 20]\n",
    "method_range = [\"eom\", \"leaf\"]\n",
    "\n",
    "configs = []\n",
    "adj_rands = []\n",
    "amis = []\n",
    "v_measures = []\n",
    "fm_scores = []\n",
    "for n_comp in n_comp_range:\n",
    "    for n_neigh in n_neigh_range:\n",
    "        for min_size in min_size_range:\n",
    "            for method in method_range:\n",
    "                 _ = model.topic_extraction(n_components=n_comp,\n",
    "                                            n_neighbors=n_neigh,\n",
    "                                            min_size=min_size,\n",
    "                                             min_samples=min_samples,\n",
    "                                            cluster_selection_method=method,\n",
    "                                            random_state=RANDOM_STATE\n",
    "                                           )\n",
    "                y_pred = np.array([model.doc_topic_facet[idx][\"topic\"]\n",
    "                                    for idx in model.doc_topic_facet])\n",
    "                adj_rand = metrics.adjusted_rand_score(y_true, y_pred)\n",
    "                ami = metrics.adjusted_mutual_info_score(y_true, y_pred)\n",
    "                v_measure = metrics.v_measure_score(y_true, y_pred)\n",
    "                fm_score = metrics.fowlkes_mallows_score(y_true, y_pred)\n",
    "\n",
    "                configs.append((n_comp, n_neigh, min_size, method))\n",
    "                adj_rands.append(adj_rand)\n",
    "                amis.append(ami)\n",
    "                v_measures.append(v_measure)\n",
    "                fm_scores.append(fm_score)\n",
    "\n",
    "print(f\"Best config with Adjusted Rand : {configs[adj_rands.index(max(adj_rands))]}\")\n",
    "print(f\"Best config with AMI : {configs[amis.index(max(amis))]}\")\n",
    "print(f\"Best config with V-measure : {configs[v_measures.index(max(v_measures))]}\")\n",
    "print(f\"Best config with FM-score : {configs[fm_scores.index(max(fm_scores))]}\")"
   ],
   "outputs": [],
   "metadata": {}
  },
  {
   "cell_type": "markdown",
   "source": [
    "## Visualisation"
   ],
   "metadata": {}
  },
  {
   "cell_type": "code",
   "execution_count": 83,
   "source": [
    "def map_themes(themes_dict):\n",
    "    \"\"\"\"\"\"\n",
    "    topics = list(np.unique(app_input_data[\"doc_topic\"]))\n",
    "    topics_themes = [themes_dict[theme] for theme in themes_dict.keys()]\n",
    "    topics_themes = sorted([x for sublist in topics_themes for x in sublist])\n",
    "\n",
    "    # Validate mapping from theme to topics\n",
    "    if topics != topics_themes:\n",
    "        raise ValueError(\"Invalid mapping from theme to topics provided.\")\n",
    "\n",
    "    # Return mapping from topic to theme\n",
    "    topics_to_theme = {}\n",
    "    for key, values in themes_dict.items():\n",
    "        for val in values:\n",
    "            topics_to_theme[val] = key\n",
    "    mapping = [topics_to_theme[topic] for topic in topics]\n",
    "    return mapping\n",
    "\n",
    "def build_compute_topic_map(app_input_data, theme_to_topics=None):\n",
    "    \"\"\"\"\"\"\n",
    "    # Create interactive figure\n",
    "    x_coords = app_input_data[\"umap_2d_embeddings\"][:, 0]\n",
    "    y_coords = app_input_data[\"umap_2d_embeddings\"][:, 1]\n",
    "    x_min, x_max = min(x_coords), max(x_coords)\n",
    "    y_min, y_max = min(y_coords), max(y_coords)\n",
    "    x_margin_l, x_margin_r = MARGIN_L*(x_max - x_min), MARGIN_R*(x_max - x_min)\n",
    "    y_margin_t, y_margin_b = MARGIN_T*(x_max - x_min), MARGIN_B*(x_max - x_min)\n",
    "    plot = figure(\n",
    "        plot_width=600, plot_height=600,\n",
    "        x_range=Range1d(start=x_min-x_margin_l, end=x_max+x_margin_r),\n",
    "        y_range=Range1d(start=y_min-y_margin_b, end=y_max+y_margin_t),\n",
    "        x_axis_location=None, y_axis_location=None,\n",
    "        tools=\"pan,wheel_zoom,tap\", toolbar_location=None,\n",
    "        active_drag=\"pan\", active_scroll=\"wheel_zoom\"\n",
    "    )\n",
    "    plot.grid.grid_line_color = None\n",
    "\n",
    "    # Set background image (scatter plot of all documents)\n",
    "    # (using bokeh's Scatter slows down the app excessively)\n",
    "    plot.image_url(url=[BG_URL],\n",
    "                   x=x_min-x_margin_l, y=y_min-y_margin_b,\n",
    "                   w=x_max-x_min+x_margin_l+x_margin_r,\n",
    "                   h=y_max-y_min+y_margin_b+y_margin_t,\n",
    "                   anchor=\"bottom_left\")\n",
    "\n",
    "    # Color topics\n",
    "    if theme_to_topics is None:\n",
    "        n_topics = len(np.unique(app_input_data[\"doc_topic\"]))\n",
    "        palette = plt.get_cmap(PALETTE)(np.linspace(0, 1, n_topics))\n",
    "        t_colors = [\"#FFDECB\" for t in np.unique(app_input_data[\"doc_topic\"])]\n",
    "        topic_to_theme = t_colors   # Hack, legend will be hidden anyway\n",
    "    else:\n",
    "        topic_to_theme = map_themes(theme_to_topics)\n",
    "        themes = np.unique(topic_to_theme)\n",
    "        n_themes = len(themes)\n",
    "        themes_to_int = {theme: i for i, theme in enumerate(themes)}\n",
    "        palette = plt.get_cmap(PALETTE)(np.linspace(0, 1, n_themes))\n",
    "        t_colors = [to_hex(palette[themes_to_int[theme]])\n",
    "                    for theme in topic_to_theme]\n",
    "\n",
    "    # Plot topic glyphs\n",
    "    topic_glyphs.data = dict(\n",
    "        x=app_input_data[\"topic_polygons_xs\"],\n",
    "        y=app_input_data[\"topic_polygons_ys\"],\n",
    "        topic=list(np.unique(app_input_data[\"doc_topic\"])),\n",
    "        theme=topic_to_theme,\n",
    "        color=t_colors,\n",
    "        words=[\" \".join(list(w)[:N_WORDS_TM_TOOLTIPS])\n",
    "               for w in app_input_data[\"topic_words\"]],\n",
    "        size=np.sqrt(app_input_data[\"topic_sizes\"]) / 1.3,\n",
    "        size_str=[f\"{s} documents\" for s in app_input_data[\"topic_sizes\"]]\n",
    "        )\n",
    "\n",
    "    plot.multi_polygons(name=\"topics\", source=topic_glyphs, xs=\"x\", ys=\"y\",\n",
    "                        color=\"color\", fill_alpha=0.5, line_alpha=0.3,\n",
    "                        hover_color=\"white\", hover_alpha=1,\n",
    "                        selection_fill_alpha=0.7, selection_line_color=\"white\",\n",
    "                        selection_line_width=2, selection_line_alpha=0.6,\n",
    "                        nonselection_fill_alpha=0.5, nonselection_line_alpha=0.3,\n",
    "                        legend_field=\"theme\")\n",
    "    plot.legend.background_fill_alpha = 0.8\n",
    "    if theme_to_topics is None:\n",
    "        plot.legend.visible = False\n",
    "\n",
    "    # Topic hovering\n",
    "    hover = HoverTool(names=[\"topics\"])\n",
    "    hover.tooltips = \"\"\"\n",
    "    <font size=\"+1\">\n",
    "    <strong>Topic</strong>: @topic <br>\n",
    "    <strong>Size</strong>: @size_str <br>\n",
    "    <strong>Words</strong>: @words\n",
    "    </font>\n",
    "    \"\"\"\n",
    "    hover.point_policy = \"follow_mouse\"\n",
    "    plot.add_tools(hover)\n",
    "\n",
    "    return plot, t_colors"
   ],
   "outputs": [],
   "metadata": {}
  },
  {
   "cell_type": "code",
   "execution_count": 84,
   "source": [
    "# Import input data\n",
    "app_input_data = joblib.load(\"input_data.pickle\")\n",
    "BG_URL = \"https://minio.lab.sspcloud.fr/avouacr/diffusion/mise-en-prod/points.png\"\n",
    "with open(\"viz_app/themes2topics.json\", \"r\") as json_file:\n",
    "    theme_dict = json.load(json_file)\n",
    "\n",
    "# Display parameters\n",
    "PALETTE = \"tab20\"\n",
    "MARGIN_L, MARGIN_R, MARGIN_B, MARGIN_T = 0.025, 0.15, 0.025, 0.05\n",
    "\n",
    "# Topic map\n",
    "N_WORDS_TM_TOOLTIPS = 15\n",
    "topic_map, __ = build_compute_topic_map(app_input_data, theme_dict)"
   ],
   "outputs": [],
   "metadata": {}
  },
  {
   "cell_type": "code",
   "execution_count": 85,
   "source": [
    "output_notebook()"
   ],
   "outputs": [
    {
     "output_type": "display_data",
     "data": {
      "text/html": [
       "\n",
       "    <div class=\"bk-root\">\n",
       "        <a href=\"https://bokeh.org\" target=\"_blank\" class=\"bk-logo bk-logo-small bk-logo-notebook\"></a>\n",
       "        <span id=\"3210\">Loading BokehJS ...</span>\n",
       "    </div>"
      ]
     },
     "metadata": {}
    },
    {
     "output_type": "display_data",
     "data": {
      "application/vnd.bokehjs_load.v0+json": "",
      "application/javascript": "\n(function(root) {\n  function now() {\n    return new Date();\n  }\n\n  const force = true;\n\n  if (typeof root._bokeh_onload_callbacks === \"undefined\" || force === true) {\n    root._bokeh_onload_callbacks = [];\n    root._bokeh_is_loading = undefined;\n  }\n\n  const JS_MIME_TYPE = 'application/javascript';\n  const HTML_MIME_TYPE = 'text/html';\n  const EXEC_MIME_TYPE = 'application/vnd.bokehjs_exec.v0+json';\n  const CLASS_NAME = 'output_bokeh rendered_html';\n\n  /**\n   * Render data to the DOM node\n   */\n  function render(props, node) {\n    const script = document.createElement(\"script\");\n    node.appendChild(script);\n  }\n\n  /**\n   * Handle when an output is cleared or removed\n   */\n  function handleClearOutput(event, handle) {\n    const cell = handle.cell;\n\n    const id = cell.output_area._bokeh_element_id;\n    const server_id = cell.output_area._bokeh_server_id;\n    // Clean up Bokeh references\n    if (id != null && id in Bokeh.index) {\n      Bokeh.index[id].model.document.clear();\n      delete Bokeh.index[id];\n    }\n\n    if (server_id !== undefined) {\n      // Clean up Bokeh references\n      const cmd_clean = \"from bokeh.io.state import curstate; print(curstate().uuid_to_server['\" + server_id + \"'].get_sessions()[0].document.roots[0]._id)\";\n      cell.notebook.kernel.execute(cmd_clean, {\n        iopub: {\n          output: function(msg) {\n            const id = msg.content.text.trim();\n            if (id in Bokeh.index) {\n              Bokeh.index[id].model.document.clear();\n              delete Bokeh.index[id];\n            }\n          }\n        }\n      });\n      // Destroy server and session\n      const cmd_destroy = \"import bokeh.io.notebook as ion; ion.destroy_server('\" + server_id + \"')\";\n      cell.notebook.kernel.execute(cmd_destroy);\n    }\n  }\n\n  /**\n   * Handle when a new output is added\n   */\n  function handleAddOutput(event, handle) {\n    const output_area = handle.output_area;\n    const output = handle.output;\n\n    // limit handleAddOutput to display_data with EXEC_MIME_TYPE content only\n    if ((output.output_type != \"display_data\") || (!Object.prototype.hasOwnProperty.call(output.data, EXEC_MIME_TYPE))) {\n      return\n    }\n\n    const toinsert = output_area.element.find(\".\" + CLASS_NAME.split(' ')[0]);\n\n    if (output.metadata[EXEC_MIME_TYPE][\"id\"] !== undefined) {\n      toinsert[toinsert.length - 1].firstChild.textContent = output.data[JS_MIME_TYPE];\n      // store reference to embed id on output_area\n      output_area._bokeh_element_id = output.metadata[EXEC_MIME_TYPE][\"id\"];\n    }\n    if (output.metadata[EXEC_MIME_TYPE][\"server_id\"] !== undefined) {\n      const bk_div = document.createElement(\"div\");\n      bk_div.innerHTML = output.data[HTML_MIME_TYPE];\n      const script_attrs = bk_div.children[0].attributes;\n      for (let i = 0; i < script_attrs.length; i++) {\n        toinsert[toinsert.length - 1].firstChild.setAttribute(script_attrs[i].name, script_attrs[i].value);\n        toinsert[toinsert.length - 1].firstChild.textContent = bk_div.children[0].textContent\n      }\n      // store reference to server id on output_area\n      output_area._bokeh_server_id = output.metadata[EXEC_MIME_TYPE][\"server_id\"];\n    }\n  }\n\n  function register_renderer(events, OutputArea) {\n\n    function append_mime(data, metadata, element) {\n      // create a DOM node to render to\n      const toinsert = this.create_output_subarea(\n        metadata,\n        CLASS_NAME,\n        EXEC_MIME_TYPE\n      );\n      this.keyboard_manager.register_events(toinsert);\n      // Render to node\n      const props = {data: data, metadata: metadata[EXEC_MIME_TYPE]};\n      render(props, toinsert[toinsert.length - 1]);\n      element.append(toinsert);\n      return toinsert\n    }\n\n    /* Handle when an output is cleared or removed */\n    events.on('clear_output.CodeCell', handleClearOutput);\n    events.on('delete.Cell', handleClearOutput);\n\n    /* Handle when a new output is added */\n    events.on('output_added.OutputArea', handleAddOutput);\n\n    /**\n     * Register the mime type and append_mime function with output_area\n     */\n    OutputArea.prototype.register_mime_type(EXEC_MIME_TYPE, append_mime, {\n      /* Is output safe? */\n      safe: true,\n      /* Index of renderer in `output_area.display_order` */\n      index: 0\n    });\n  }\n\n  // register the mime type if in Jupyter Notebook environment and previously unregistered\n  if (root.Jupyter !== undefined) {\n    const events = require('base/js/events');\n    const OutputArea = require('notebook/js/outputarea').OutputArea;\n\n    if (OutputArea.prototype.mime_types().indexOf(EXEC_MIME_TYPE) == -1) {\n      register_renderer(events, OutputArea);\n    }\n  }\n\n  \n  if (typeof (root._bokeh_timeout) === \"undefined\" || force === true) {\n    root._bokeh_timeout = Date.now() + 5000;\n    root._bokeh_failed_load = false;\n  }\n\n  const NB_LOAD_WARNING = {'data': {'text/html':\n     \"<div style='background-color: #fdd'>\\n\"+\n     \"<p>\\n\"+\n     \"BokehJS does not appear to have successfully loaded. If loading BokehJS from CDN, this \\n\"+\n     \"may be due to a slow or bad network connection. Possible fixes:\\n\"+\n     \"</p>\\n\"+\n     \"<ul>\\n\"+\n     \"<li>re-rerun `output_notebook()` to attempt to load from CDN again, or</li>\\n\"+\n     \"<li>use INLINE resources instead, as so:</li>\\n\"+\n     \"</ul>\\n\"+\n     \"<code>\\n\"+\n     \"from bokeh.resources import INLINE\\n\"+\n     \"output_notebook(resources=INLINE)\\n\"+\n     \"</code>\\n\"+\n     \"</div>\"}};\n\n  function display_loaded() {\n    const el = document.getElementById(\"3210\");\n    if (el != null) {\n      el.textContent = \"BokehJS is loading...\";\n    }\n    if (root.Bokeh !== undefined) {\n      if (el != null) {\n        el.textContent = \"BokehJS \" + root.Bokeh.version + \" successfully loaded.\";\n      }\n    } else if (Date.now() < root._bokeh_timeout) {\n      setTimeout(display_loaded, 100)\n    }\n  }\n\n\n  function run_callbacks() {\n    try {\n      root._bokeh_onload_callbacks.forEach(function(callback) {\n        if (callback != null)\n          callback();\n      });\n    } finally {\n      delete root._bokeh_onload_callbacks\n    }\n    console.debug(\"Bokeh: all callbacks have finished\");\n  }\n\n  function load_libs(css_urls, js_urls, callback) {\n    if (css_urls == null) css_urls = [];\n    if (js_urls == null) js_urls = [];\n\n    root._bokeh_onload_callbacks.push(callback);\n    if (root._bokeh_is_loading > 0) {\n      console.debug(\"Bokeh: BokehJS is being loaded, scheduling callback at\", now());\n      return null;\n    }\n    if (js_urls == null || js_urls.length === 0) {\n      run_callbacks();\n      return null;\n    }\n    console.debug(\"Bokeh: BokehJS not loaded, scheduling load and callback at\", now());\n    root._bokeh_is_loading = css_urls.length + js_urls.length;\n\n    function on_load() {\n      root._bokeh_is_loading--;\n      if (root._bokeh_is_loading === 0) {\n        console.debug(\"Bokeh: all BokehJS libraries/stylesheets loaded\");\n        run_callbacks()\n      }\n    }\n\n    function on_error(url) {\n      console.error(\"failed to load \" + url);\n    }\n\n    for (let i = 0; i < css_urls.length; i++) {\n      const url = css_urls[i];\n      const element = document.createElement(\"link\");\n      element.onload = on_load;\n      element.onerror = on_error.bind(null, url);\n      element.rel = \"stylesheet\";\n      element.type = \"text/css\";\n      element.href = url;\n      console.debug(\"Bokeh: injecting link tag for BokehJS stylesheet: \", url);\n      document.body.appendChild(element);\n    }\n\n    for (let i = 0; i < js_urls.length; i++) {\n      const url = js_urls[i];\n      const element = document.createElement('script');\n      element.onload = on_load;\n      element.onerror = on_error.bind(null, url);\n      element.async = false;\n      element.src = url;\n      console.debug(\"Bokeh: injecting script tag for BokehJS library: \", url);\n      document.head.appendChild(element);\n    }\n  };\n\n  function inject_raw_css(css) {\n    const element = document.createElement(\"style\");\n    element.appendChild(document.createTextNode(css));\n    document.body.appendChild(element);\n  }\n\n  \n  const js_urls = [\"https://cdn.bokeh.org/bokeh/release/bokeh-2.4.1.min.js\", \"https://cdn.bokeh.org/bokeh/release/bokeh-gl-2.4.1.min.js\", \"https://cdn.bokeh.org/bokeh/release/bokeh-widgets-2.4.1.min.js\", \"https://cdn.bokeh.org/bokeh/release/bokeh-tables-2.4.1.min.js\", \"https://cdn.bokeh.org/bokeh/release/bokeh-mathjax-2.4.1.min.js\"];\n  const css_urls = [];\n  \n\n  const inline_js = [\n    function(Bokeh) {\n      Bokeh.set_log_level(\"info\");\n    },\n    function(Bokeh) {\n    \n    \n    }\n  ];\n\n  function run_inline_js() {\n    \n    if (root.Bokeh !== undefined || force === true) {\n      \n    for (let i = 0; i < inline_js.length; i++) {\n      inline_js[i].call(root, root.Bokeh);\n    }\n    if (force === true) {\n        display_loaded();\n      }} else if (Date.now() < root._bokeh_timeout) {\n      setTimeout(run_inline_js, 100);\n    } else if (!root._bokeh_failed_load) {\n      console.log(\"Bokeh: BokehJS failed to load within specified timeout.\");\n      root._bokeh_failed_load = true;\n    } else if (force !== true) {\n      const cell = $(document.getElementById(\"3210\")).parents('.cell').data().cell;\n      cell.output_area.append_execute_result(NB_LOAD_WARNING)\n    }\n\n  }\n\n  if (root._bokeh_is_loading === 0) {\n    console.debug(\"Bokeh: BokehJS loaded, going straight to plotting\");\n    run_inline_js();\n  } else {\n    load_libs(css_urls, js_urls, function() {\n      console.debug(\"Bokeh: BokehJS plotting callback run at\", now());\n      run_inline_js();\n    });\n  }\n}(window));"
     },
     "metadata": {}
    }
   ],
   "metadata": {}
  },
  {
   "cell_type": "code",
   "execution_count": 86,
   "source": [
    "show(topic_map)"
   ],
   "outputs": [
    {
     "output_type": "display_data",
     "data": {
      "text/html": [
       "\n",
       "\n",
       "\n",
       "\n",
       "\n",
       "\n",
       "  <div class=\"bk-root\" id=\"e663dfeb-af66-44a6-9ea0-af1b9f3909c3\" data-root-id=\"3158\"></div>\n"
      ]
     },
     "metadata": {}
    },
    {
     "output_type": "display_data",
     "data": {
      "application/javascript": "(function(root) {\n  function embed_document(root) {\n    \n  const docs_json = {\"4a21fbfa-bd06-484c-bfbd-04da65c4d006\":{\"defs\":[],\"roots\":{\"references\":[{\"attributes\":{\"center\":[{\"id\":\"3168\"},{\"id\":\"3172\"},{\"id\":\"3206\"}],\"renderers\":[{\"id\":\"3184\"},{\"id\":\"3192\"}],\"title\":{\"id\":\"3194\"},\"toolbar\":{\"id\":\"3176\"},\"toolbar_location\":null,\"x_range\":{\"id\":\"3156\"},\"x_scale\":{\"id\":\"3161\"},\"y_range\":{\"id\":\"3157\"},\"y_scale\":{\"id\":\"3163\"}},\"id\":\"3158\",\"subtype\":\"Figure\",\"type\":\"Plot\"},{\"attributes\":{\"callback\":null,\"names\":[\"topics\"],\"point_policy\":\"follow_mouse\",\"tooltips\":\"\\n    <font size=\\\"+1\\\">\\n    <strong>Topic</strong>: @topic <br>\\n    <strong>Size</strong>: @size_str <br>\\n    <strong>Words</strong>: @words\\n    </font>\\n    \"},\"id\":\"3208\",\"type\":\"HoverTool\"},{\"attributes\":{\"end\":13.463273763656616,\"start\":3.6777719259262085},\"id\":\"3157\",\"type\":\"Range1d\"},{\"attributes\":{},\"id\":\"3163\",\"type\":\"LinearScale\"},{\"attributes\":{},\"id\":\"3205\",\"type\":\"AllLabels\"},{\"attributes\":{},\"id\":\"3161\",\"type\":\"LinearScale\"},{\"attributes\":{\"anchor\":\"bottom_left\",\"h\":{\"value\":9.785501599311829},\"url\":{\"field\":\"url\"},\"w\":{\"value\":13.294651627540588},\"x\":{\"value\":-2.515875220298767},\"y\":{\"value\":3.6777719259262085}},\"id\":\"3181\",\"type\":\"ImageURL\"},{\"attributes\":{\"end\":10.778776407241821,\"start\":-2.515875220298767},\"id\":\"3156\",\"type\":\"Range1d\"},{\"attributes\":{\"data\":{\"url\":[\"https://minio.lab.sspcloud.fr/avouacr/diffusion/mise-en-prod/points.png\"]},\"selected\":{\"id\":\"3197\"},\"selection_policy\":{\"id\":\"3196\"}},\"id\":\"3180\",\"type\":\"ColumnDataSource\"},{\"attributes\":{},\"id\":\"3204\",\"type\":\"BasicTickFormatter\"},{\"attributes\":{\"anchor\":\"bottom_left\",\"global_alpha\":{\"value\":0.2},\"h\":{\"value\":9.785501599311829},\"url\":{\"field\":\"url\"},\"w\":{\"value\":13.294651627540588},\"x\":{\"value\":-2.515875220298767},\"y\":{\"value\":3.6777719259262085}},\"id\":\"3183\",\"type\":\"ImageURL\"},{\"attributes\":{\"axis\":{\"id\":\"3165\"},\"coordinates\":null,\"grid_line_color\":null,\"group\":null,\"ticker\":null},\"id\":\"3168\",\"type\":\"Grid\"},{\"attributes\":{\"axis\":{\"id\":\"3169\"},\"coordinates\":null,\"dimension\":1,\"grid_line_color\":null,\"group\":null,\"ticker\":null},\"id\":\"3172\",\"type\":\"Grid\"},{\"attributes\":{\"coordinates\":null,\"formatter\":{\"id\":\"3204\"},\"group\":null,\"major_label_policy\":{\"id\":\"3205\"},\"ticker\":{\"id\":\"3170\"}},\"id\":\"3169\",\"type\":\"LinearAxis\"},{\"attributes\":{\"label\":{\"field\":\"theme\"},\"renderers\":[{\"id\":\"3192\"}]},\"id\":\"3207\",\"type\":\"LegendItem\"},{\"attributes\":{\"coordinates\":null,\"formatter\":{\"id\":\"3201\"},\"group\":null,\"major_label_policy\":{\"id\":\"3202\"},\"ticker\":{\"id\":\"3166\"}},\"id\":\"3165\",\"type\":\"LinearAxis\"},{\"attributes\":{\"coordinates\":null,\"group\":null},\"id\":\"3194\",\"type\":\"Title\"},{\"attributes\":{},\"id\":\"3166\",\"type\":\"BasicTicker\"},{\"attributes\":{\"coordinates\":null,\"data_source\":{\"id\":\"3180\"},\"glyph\":{\"id\":\"3181\"},\"group\":null,\"hover_glyph\":null,\"muted_glyph\":{\"id\":\"3183\"},\"nonselection_glyph\":{\"id\":\"3182\"},\"view\":{\"id\":\"3185\"}},\"id\":\"3184\",\"type\":\"GlyphRenderer\"},{\"attributes\":{},\"id\":\"3202\",\"type\":\"AllLabels\"},{\"attributes\":{},\"id\":\"3173\",\"type\":\"PanTool\"},{\"attributes\":{},\"id\":\"3170\",\"type\":\"BasicTicker\"},{\"attributes\":{},\"id\":\"3197\",\"type\":\"Selection\"},{\"attributes\":{},\"id\":\"1210\",\"type\":\"Selection\"},{\"attributes\":{},\"id\":\"3201\",\"type\":\"BasicTickFormatter\"},{\"attributes\":{},\"id\":\"3174\",\"type\":\"WheelZoomTool\"},{\"attributes\":{},\"id\":\"3196\",\"type\":\"UnionRenderers\"},{\"attributes\":{\"source\":{\"id\":\"1172\"}},\"id\":\"3193\",\"type\":\"CDSView\"},{\"attributes\":{},\"id\":\"1209\",\"type\":\"UnionRenderers\"},{\"attributes\":{\"callback\":null},\"id\":\"3175\",\"type\":\"TapTool\"},{\"attributes\":{\"fill_alpha\":{\"value\":0.5},\"fill_color\":{\"field\":\"color\"},\"hatch_alpha\":{\"value\":0.1},\"hatch_color\":{\"field\":\"color\"},\"line_alpha\":{\"value\":0.3},\"line_color\":{\"field\":\"color\"},\"xs\":{\"field\":\"x\"},\"ys\":{\"field\":\"y\"}},\"id\":\"3188\",\"type\":\"MultiPolygons\"},{\"attributes\":{\"fill_alpha\":{\"value\":0.5},\"fill_color\":{\"field\":\"color\"},\"hatch_color\":{\"field\":\"color\"},\"line_alpha\":{\"value\":0.3},\"line_color\":{\"field\":\"color\"},\"xs\":{\"field\":\"x\"},\"ys\":{\"field\":\"y\"}},\"id\":\"3187\",\"type\":\"MultiPolygons\"},{\"attributes\":{\"coordinates\":null,\"data_source\":{\"id\":\"1172\"},\"glyph\":{\"id\":\"3187\"},\"group\":null,\"hover_glyph\":{\"id\":\"3190\"},\"muted_glyph\":{\"id\":\"3191\"},\"name\":\"topics\",\"nonselection_glyph\":{\"id\":\"3188\"},\"selection_glyph\":{\"id\":\"3189\"},\"view\":{\"id\":\"3193\"}},\"id\":\"3192\",\"type\":\"GlyphRenderer\"},{\"attributes\":{\"background_fill_alpha\":0.8,\"coordinates\":null,\"group\":null,\"items\":[{\"id\":\"3207\"}]},\"id\":\"3206\",\"type\":\"Legend\"},{\"attributes\":{\"source\":{\"id\":\"3180\"}},\"id\":\"3185\",\"type\":\"CDSView\"},{\"attributes\":{\"fill_color\":{\"value\":\"white\"},\"hatch_color\":{\"value\":\"white\"},\"line_color\":{\"value\":\"white\"},\"xs\":{\"field\":\"x\"},\"ys\":{\"field\":\"y\"}},\"id\":\"3190\",\"type\":\"MultiPolygons\"},{\"attributes\":{\"active_drag\":{\"id\":\"3173\"},\"active_scroll\":{\"id\":\"3174\"},\"tools\":[{\"id\":\"3173\"},{\"id\":\"3174\"},{\"id\":\"3175\"},{\"id\":\"3208\"}]},\"id\":\"3176\",\"type\":\"Toolbar\"},{\"attributes\":{\"fill_alpha\":{\"value\":0.7},\"fill_color\":{\"field\":\"color\"},\"hatch_color\":{\"field\":\"color\"},\"line_alpha\":{\"value\":0.6},\"line_color\":{\"value\":\"white\"},\"line_width\":{\"value\":2},\"xs\":{\"field\":\"x\"},\"ys\":{\"field\":\"y\"}},\"id\":\"3189\",\"type\":\"MultiPolygons\"},{\"attributes\":{\"anchor\":\"bottom_left\",\"global_alpha\":{\"value\":0.1},\"h\":{\"value\":9.785501599311829},\"url\":{\"field\":\"url\"},\"w\":{\"value\":13.294651627540588},\"x\":{\"value\":-2.515875220298767},\"y\":{\"value\":3.6777719259262085}},\"id\":\"3182\",\"type\":\"ImageURL\"},{\"attributes\":{\"data\":{\"color\":[\"#aec7e8\",\"#17becf\",\"#9edae5\",\"#1f77b4\",\"#ff9896\",\"#8c564b\",\"#9edae5\",\"#bcbd22\",\"#bcbd22\",\"#17becf\",\"#98df8a\",\"#9edae5\",\"#1f77b4\",\"#bcbd22\",\"#8c564b\",\"#e377c2\",\"#9edae5\",\"#98df8a\",\"#bcbd22\",\"#bcbd22\",\"#bcbd22\",\"#c5b0d5\",\"#bcbd22\",\"#1f77b4\",\"#1f77b4\",\"#ffbb78\",\"#aec7e8\",\"#bcbd22\",\"#7f7f7f\",\"#bcbd22\",\"#98df8a\",\"#9edae5\",\"#9edae5\",\"#aec7e8\",\"#c5b0d5\",\"#9edae5\",\"#e377c2\",\"#c5b0d5\",\"#c5b0d5\",\"#c5b0d5\",\"#8c564b\",\"#ffbb78\",\"#c5b0d5\",\"#bcbd22\",\"#7f7f7f\",\"#bcbd22\"],\"size\":{\"__ndarray__\":\"LNl7d6IMUUAUEhaokbJPQJiWPj9P505AmCLNooDJTEAM54fGwGJHQI1HiMOYkEZABUiGcndQRkBVC33TZOVFQFk/gjEopEVABxHUy9dERUCLz+eVpOVEQNQYmzYIzkRAs7q+JjbMRECeJuD/07BEQMjo2SWQhkRAfGA8GCpZREDlHcDGGz5EQLL6wP1Q+kNAnSa2E7GzQ0BpHQOuQYhDQHb9fsORVkNA17TMfab8QkAuPbdohclCQItRkSZsgUJAH1X8d8abQUAVCClCy7pAQJMkr61lt0BA+/jJPG01QECjpgZ9WCBAQKXVoEseGEBAywiwqKz+P0BMQetj1PI/QCC/Jbzb5D5Aeg4/B2jiPkD9aX08uno+QGVmV+w3CDxATsbwVIfMO0ATO7ETO7E7QMUPz9aKoztAl5GgJn8vO0DFTuzETuw6QIsMbwl0BzpA4btuCOiaOUAcKDIJTZQ4QEoN0+U5SzdAAt72Xf+uNEA=\",\"dtype\":\"float64\",\"order\":\"little\",\"shape\":[46]},\"size_str\":[\"7860 documents\",\"6792 documents\",\"6456 documents\",\"5602 documents\",\"3697 documents\",\"3442 documents\",\"3366 documents\",\"3241 documents\",\"3166 documents\",\"3058 documents\",\"2952 documents\",\"2926 documents\",\"2924 documents\",\"2894 documents\",\"2848 documents\",\"2799 documents\",\"2770 documents\",\"2698 documents\",\"2624 documents\",\"2579 documents\",\"2528 documents\",\"2437 documents\",\"2386 documents\",\"2315 documents\",\"2096 documents\",\"1892 documents\",\"1889 documents\",\"1776 documents\",\"1758 documents\",\"1751 documents\",\"1730 documents\",\"1725 documents\",\"1613 documents\",\"1612 documents\",\"1570 documents\",\"1328 documents\",\"1306 documents\",\"1296 documents\",\"1291 documents\",\"1249 documents\",\"1225 documents\",\"1145 documents\",\"1108 documents\",\"1021 documents\",\"917 documents\",\"723 documents\"],\"theme\":[\"Culture\",\"Racism\",\"Sexuality\",\"Beliefs\",\"Education\",\"Media\",\"Sexuality\",\"Politics\",\"Politics\",\"Racism\",\"Economy\",\"Sexuality\",\"Beliefs\",\"Politics\",\"Media\",\"Nature\",\"Sexuality\",\"Economy\",\"Politics\",\"Politics\",\"Politics\",\"Health\",\"Politics\",\"Beliefs\",\"Beliefs\",\"Death\",\"Culture\",\"Politics\",\"Other\",\"Politics\",\"Economy\",\"Sexuality\",\"Sexuality\",\"Culture\",\"Health\",\"Sexuality\",\"Nature\",\"Health\",\"Health\",\"Health\",\"Media\",\"Death\",\"Health\",\"Politics\",\"Other\",\"Politics\"],\"topic\":[0,1,2,3,4,5,6,7,8,9,10,11,12,13,14,15,16,17,18,19,20,21,22,23,24,25,26,27,28,29,30,31,32,33,34,35,36,37,38,39,40,41,42,43,44,45],\"words\":[\"games movie game video better movies star best good art bad wars people just film\",\"white people racist racism black race word cultural americans racial culture appropriation privilege african american\",\"women men feminism marriage sex relationship woman relationships dating man love people don just equality\",\"people life good person don just bad wrong human think change self society make things\",\"school college schools education students high student university debt teachers public classes universities colleges taught\",\"reddit subreddit posts post sub subreddits cmv people comments mods view comment just users karma\",\"gender transgender trans people sex genders mental binary identity pronouns women female dysphoria transgenderism male\",\"war military islam nuclear terrorism korea israel world north muslims isis religion terrorist weapons attacks\",\"trump donald president election supporters obama racist win presidency good bad america elected republican think\",\"police black blm lives matter movement people violence protests cops brutality officers protest crime riots\",\"tax income taxes money rich wealth people government inequality pay welfare poor homeless basic wealthy\",\"children child parents kids having parent people family selfish shouldn kid don age baby allowed\",\"religion god religious believe people christianity religions christian morality bible christians exist belief atheists beliefs\",\"vote voting election elections party electoral presidential candidate voter people trump college votes age candidates\",\"internet media social facebook people youtube data online net neutrality google privacy companies content twitter\",\"animals animal meat dogs dog vegan eating eat pets cats people vegans veganism wrong humans\",\"abortion pro life choice child abortions birth women legal fetus support men woman circumcision pregnancy\",\"wage minimum job work jobs employees business workers companies pay people service company businesses paid\",\"america states united country usa world countries american state americans government better nation people president\",\"gun guns control amendment shootings laws weapons firearms violence mass constitution ban assault carry people\",\"left right political politics wing conservatives conservative liberals liberal people anti far speech views social\",\"drugs drug marijuana alcohol legal smoking illegal drinking addiction use legalized recreational people weed tobacco\",\"party democrats democracy political republican republicans democratic government politics american parties election politicians america people\",\"world earth human humanity humans planet species space life future mars society people better population\",\"free science universe theory exist believe simulation real reality evolution consciousness scientific human humans don\",\"death penalty prison punishment crimes crime murder people sentence life criminals criminal justice convicted jail\",\"sports football athletes sport soccer women nfl team compete players professional nba league teams game\",\"immigration immigrants illegal refugees country wall border europe countries citizenship trump states mexico america ban\",\"driving cars car drivers traffic speed drive road vehicles people lane driver parking vehicle license\",\"bernie sanders biden hillary clinton trump joe president vote election candidate democratic win supporters nomination\",\"capitalism socialism communism society economic work economy social free market economics socialist world communist people\",\"gay lgbt homosexuality people community lgbtq sexuality sexual pride straight sex homosexual homophobic orientation bisexual\",\"porn pedophilia pedophiles child sex pornography sexual pedophile children wrong people legal illegal prostitution abuse\",\"music song rap kanye album best hip band hop songs pop rock better west musical\",\"food pizza superior better cheese chicken best hot eating milk sandwich eat cream ice coffee\",\"rape sexual assault women raped victim victims accusations sex men false harassment allegations people culture\",\"climate change global warming energy environment emissions carbon human real nuclear environmental fossil humans caused\",\"fat people weight obese body shaming obesity overweight acceptance health movement healthy unhealthy depression positivity\",\"covid coronavirus virus pandemic people mask masks flu vaccine vaccines wear corona anti wearing dangerous\",\"toilet paper water bathroom use bathrooms shower better wash hands public superior washing pee sink\",\"media news fake fox people press outlets reporting mass cnn journalism mainstream political public biased\",\"suicide people die assisted euthanasia death commit kill right suicidal life selfish mental legal illness\",\"healthcare health insurance universal care medical free medicare payer government single people companies medicine states\",\"flag confederate statues anthem national american speech civil kaepernick war kneeling monuments colin nfl slavery\",\"day christmas holiday time hours week year holidays santa days work halloween hour thanksgiving daylight\",\"china chinese hong kong world japan countries russia government people america western protests west japanese\"],\"x\":[[[[3.35545015335083,3.310519218444824,3.2967123985290527,3.2884607315063477,3.009718418121338,2.862900495529175,2.7597761154174805,2.663630723953247,2.570148468017578,2.524547815322876,2.518425226211548,2.5043084621429443,2.4532105922698975,2.439897060394287,2.4400534629821777,2.4647865295410156,2.4895808696746826,2.514533281326294,2.5305333137512207,2.5815188884735107,2.643603563308716,3.2374074459075928,3.3301877975463867,3.3489882946014404]],[[2.1877663135528564,2.3102145195007324,2.368788719177246,2.5130724906921387,2.573284149169922,2.5827996730804443,2.568382978439331,2.5100388526916504,2.4620378017425537,2.3285608291625977,2.207355260848999]],[[1.627707839012146,1.6294983625411987,1.7460787296295166,1.8014373779296875,1.8621983528137207,1.9846322536468506,2.419368028640747,2.441467523574829,2.4702951908111572,2.479351043701172,2.470672130584717,2.4455454349517822,2.319605827331543,2.143179416656494,2.1198086738586426,2.084946632385254,1.685714840888977,1.6300493478775024]],[[2.5612387657165527,2.5741851329803467,2.7542624473571777,2.8161728382110596,2.7998485565185547,2.7813291549682617,2.6929643154144287,2.630856990814209,2.5678884983062744,2.5536537170410156,2.5120232105255127,2.5350594520568848]],[[2.9434635639190674,2.9712347984313965,2.96346378326416,2.895836591720581,2.80765962600708,2.711649179458618,2.6935713291168213,2.714766025543213,2.902381420135498]],[[1.1719657182693481,1.0935543775558472,1.1444482803344727,1.1724611520767212,1.267526388168335,1.3368346691131592,1.5220847129821777,1.5244863033294678,1.5364128351211548,1.4771184921264648,1.3821793794631958]],[[3.4431214332580566,3.5127451419830322,3.575237989425659,3.6077091693878174,3.668667793273926,3.695483446121216,3.7090513706207275,3.709333658218384,3.6802775859832764,3.5359325408935547,3.4664382934570312,3.456984758377075]]],[[[3.1452956199645996,3.175823926925659,3.0986430644989014,3.0250701904296875,2.9116971492767334,2.7473080158233643,2.706488609313965,2.570014238357544,2.409184455871582,2.2610604763031006,2.2329232692718506,2.01106595993042,1.9998942613601685,1.9969333410263062,2.003274917602539,2.0935428142547607,2.1205270290374756,2.208320140838623,2.3633358478546143,2.398240566253662,2.578742027282715,2.9793283939361572]],[[2.5382039546966553,2.415451765060425,2.1908209323883057,2.1020166873931885,2.0722925662994385,1.8207701444625854,1.790091872215271,1.730286717414856,1.8036787509918213,1.9069887399673462,2.0644102096557617,2.155975341796875,2.178727626800537,2.2073206901550293,2.286088705062866,2.5342469215393066]],[[1.8628562688827515,1.9444961547851562,1.9440274238586426,1.9055193662643433,1.6935346126556396,1.6740444898605347,1.7022992372512817,1.7701932191848755]],[[2.262380838394165,2.3084757328033447,2.323392391204834,2.3401834964752197,2.355823040008545,2.413983106613159,2.49180006980896,2.4873998165130615,2.4521799087524414,2.4181811809539795,2.2764365673065186]],[[3.2637524604797363,3.2249035835266113,3.1566202640533447,3.100903272628784,3.0563137531280518,3.051182508468628,3.012057304382324,3.0091476440429688,2.993378162384033,2.9859459400177,2.952815055847168,3.0333988666534424,3.1107969284057617,3.126636505126953]],[[1.7042970657348633,1.8233190774917603,1.9394923448562622,1.9417250156402588,1.981736183166504,1.983064889907837,1.8580507040023804,1.8033615350723267,1.7065919637680054,1.6417653560638428,1.6167625188827515,1.612082839012146,1.6229150295257568,1.6755032539367676]]],[[[0.7718246579170227,0.3896080553531647,0.32948505878448486,0.2303570955991745,-0.14935825765132904,-0.23480871319770813,-0.6079700589179993,-0.8440091609954834,-0.8702014088630676,-0.9483067393302917,-0.9356211423873901,0.2561441659927368,0.4259880781173706,0.48963263630867004,0.5805311799049377,0.7466846704483032,0.7712914347648621,0.8745563626289368,0.8764208555221558,0.7770681977272034]]],[[[1.7782901525497437,1.6458286046981812,1.6516411304473877,1.657281517982483,1.7471821308135986,1.8034018278121948,1.8472769260406494,2.7150776386260986,2.8372178077697754,2.990100860595703,2.998105049133301,3.006460189819336,2.975104570388794,2.9701385498046875,2.3240065574645996,2.2922654151916504,2.2597720623016357,2.2308497428894043,2.159639835357666,1.9316015243530273,1.8283878564834595,1.7859939336776733]]],[[[1.8991597890853882,1.9977903366088867,1.9696449041366577,1.9433034658432007,1.935060977935791,1.8661011457443237,1.7017310857772827,1.4182366132736206,1.1968945264816284,1.1932445764541626,1.0451462268829346,1.0500261783599854,1.0966376066207886,1.5567785501480103,1.63800048828125,1.750917911529541,1.7979587316513062]],[[1.9780842065811157,1.9774305820465088,1.9870240688323975,2.0427963733673096,2.079362154006958,2.1884162425994873,2.25352144241333,2.2461583614349365,2.238201141357422,2.1316564083099365,2.00338077545166]]],[[[4.918732643127441,5.188937664031982,5.206961631774902,5.235502243041992,5.55010461807251,5.641308307647705,5.655402660369873,5.460637092590332,5.390495300292969,5.343091011047363,5.299881935119629,5.25908088684082,5.192196846008301,5.132955551147461,5.029763698577881,4.979383945465088,4.937932014465332,4.931422233581543]]],[[[-1.369929313659668,-0.9862306714057922,-0.39979127049446106,-0.39626333117485046,-0.5876385569572449,-0.6519092321395874,-0.7202638983726501,-1.0927577018737793,-1.2460325956344604,-1.317234754562378,-1.394033670425415,-1.3892033100128174]],[[-0.43859586119651794,-0.4159945547580719,-0.2991267442703247,-0.2558897137641907,-0.24911902844905853,-0.24728314578533173,-0.25325807929039,-0.3308916687965393,-0.42227309942245483,-0.46146610379219055,-0.49023130536079407,-0.5066118240356445,-0.49906066060066223,-0.4757590889930725]]],[[[4.084279537200928,4.1295647621154785,4.186286926269531,4.215465068817139,4.294363498687744,4.3786516189575195,4.602612495422363,4.581154823303223,4.577371597290039,4.506847381591797,4.4615888595581055,4.170858383178711,4.136048316955566]],[[5.430689811706543,5.442996025085449,5.482845306396484,5.567331314086914,5.665903568267822,5.711183071136475,5.768514156341553,5.763580799102783,5.750007629394531,5.727186679840088,5.702033519744873,5.587014198303223,5.520814895629883,5.480640411376953]],[[5.328534126281738,5.5290656089782715,5.54356050491333,5.577431678771973,5.890075206756592,5.994224548339844,6.075649738311768,6.121180057525635,6.182291507720947,6.200703144073486,6.193653106689453,6.168299198150635,6.15627908706665,5.726210117340088,5.538900375366211,5.516329288482666,5.401611804962158]],[[5.93679141998291,6.058961391448975,6.059433937072754,6.06030797958374,6.022425651550293,5.953409194946289,5.936190605163574,5.9281907081604,5.920955181121826,5.90011739730835,5.847772121429443,5.830499649047852,5.829958915710449,5.831274509429932]],[[6.093106269836426,6.276354789733887,6.302397727966309,6.314925193786621,6.2996907234191895,6.28697395324707,6.226038932800293,6.0985589027404785,6.094527721405029]]],[[[8.323486328125,8.311968803405762,8.21393871307373,8.140802383422852,8.067883491516113,7.70939302444458,7.686528205871582,7.637325763702393,7.524856090545654,7.511861324310303,7.477006912231445,7.434360980987549,7.506978511810303,7.8716654777526855,8.21912670135498,8.235920906066895,8.252689361572266]]],[[[3.954019069671631,3.9003798961639404,3.7828140258789062,3.7771236896514893,3.702714681625366,3.670675754547119,3.6138744354248047,3.1493592262268066,3.0861380100250244,3.1250905990600586,3.1673951148986816,3.2289648056030273,3.328648328781128,3.6210691928863525,3.9186768531799316,3.942326068878174]],[[3.873958110809326,3.8522818088531494,3.759890556335449,3.6900503635406494,3.6169848442077637,3.448359251022339,3.385141611099243,3.367217540740967,3.3744215965270996,3.391636371612549,3.4374656677246094,3.526247024536133,3.771038055419922]],[[3.889092445373535,3.8995683193206787,3.9485714435577393,4.092487812042236,4.214616298675537,4.250041484832764,4.1730756759643555,4.045698642730713,3.9888689517974854,3.8915789127349854]],[[3.818800687789917,3.888425350189209,3.933533191680908,4.022801399230957,4.064211845397949,4.050479412078857,3.9867210388183594,3.8896567821502686]]],[[[3.2386624813079834,3.717968702316284,3.736955404281616,3.7529070377349854,3.7568368911743164,3.7687182426452637,3.704906463623047,3.6849822998046875,3.616117000579834,3.5686182975769043,3.420999526977539,3.390320301055908,3.2253570556640625,3.20217227935791,3.1555957794189453,3.140679121017456,3.126746654510498,3.020972490310669,3.0127041339874268,3.0271174907684326,3.1328608989715576,3.1930806636810303]],[[3.66054368019104,3.752065896987915,3.8281421661376953,3.9141557216644287,4.129593372344971,4.162425518035889,4.195519924163818,4.19098424911499,4.043431282043457,3.799058437347412,3.7858684062957764,3.6695218086242676,3.664750337600708]],[[3.7960121631622314,3.6702191829681396,3.6201577186584473,3.5922036170959473,3.587552309036255,3.6019885540008545,3.6259381771087646,3.6324849128723145,3.6888012886047363,3.8538670539855957,3.90771484375,3.9702506065368652,3.8240177631378174]],[[3.6608428955078125,3.737417459487915,3.6568877696990967,3.5452427864074707,3.505931854248047,3.53422474861145]]],[[[-0.758366584777832,-0.3227366805076599,-0.2760142683982849,-0.2658301591873169,-0.2711069583892822,-0.4301421046257019,-0.45356282591819763,-0.6117170453071594,-1.0028736591339111,-1.1247801780700684,-1.384156584739685,-1.3870341777801514,-1.385614275932312,-1.380738615989685,-1.3654391765594482,-1.274755597114563,-0.8350531458854675]]],[[[3.2194433212280273,3.111816644668579,3.1218066215515137,3.2757861614227295,3.3770759105682373,3.380589008331299,3.545945882797241,3.6046054363250732,3.69004225730896,3.7634308338165283,3.861988067626953,3.9092931747436523,3.9594194889068604,3.9467613697052,3.835566759109497,3.7872984409332275,3.724301815032959,3.4647016525268555,3.3265955448150635]],[[3.132343053817749,2.993194103240967,2.979369640350342,2.887899398803711,2.7383975982666016,2.730424642562866,2.7298080921173096,2.7296555042266846,2.7713282108306885,2.925873041152954,2.960714101791382,3.1137967109680176,3.1567840576171875,3.1525042057037354]]],[[[6.870371341705322,6.863758087158203,6.984478950500488,7.020132541656494,7.22158145904541,7.597504615783691,7.674434185028076,7.666716575622559,7.662841796875,7.6332292556762695,7.566160202026367,7.541598320007324,7.19515323638916,7.104458332061768,7.061554431915283,6.980444431304932,6.942966938018799,6.922770977020264]],[[7.868701934814453,7.76805305480957,7.80350923538208,7.910001277923584,7.930681228637695,7.929923057556152]],[[7.811326026916504,7.871260643005371,7.940962791442871,7.969573974609375,7.993155479431152,8.027241706848145,8.037997245788574,8.012125015258789,7.921571254730225,7.879367351531982,7.801928997039795,7.766829490661621,7.774685382843018,7.795674800872803]]],[[[5.028571605682373,4.797706604003906,4.6757049560546875,4.638732433319092,4.662997245788574,4.749121189117432,4.809088706970215,4.860371112823486,4.888313293457031,4.939783096313477,5.103475093841553,5.128408908843994,5.198168754577637,5.201670169830322,5.185652732849121,5.161359786987305]],[[4.230398178100586,4.591716766357422,4.700571537017822,4.702229976654053,4.686366558074951,4.506500244140625,4.181586742401123,4.1438493728637695,4.108199119567871,4.090429306030273,4.123708248138428]],[[4.779897212982178,4.799201488494873,4.880812168121338,4.896944046020508,4.94403076171875,5.001289367675781,4.969352722167969,4.948728084564209,4.863304615020752]],[[2.656567335128784,2.723971366882324,2.78092098236084,2.8214149475097656,2.8313331604003906,2.840259552001953,2.857628107070923,2.7931604385375977,2.7677292823791504,2.755924701690674,2.7038817405700684,2.664198160171509]]],[[[-1.7296347618103027,-1.5777230262756348,-1.4373760223388672,-1.3320508003234863,-1.2316313982009888,-1.1816409826278687,-1.1020581722259521,-1.0737226009368896,-1.0960562229156494,-1.2294492721557617,-1.2704048156738281,-1.3487082719802856,-1.3794639110565186,-1.5494900941848755,-1.6442904472351074]]],[[[-1.4894688129425049,-2.2330102920532227,-2.2132296562194824,-2.095276355743408,-1.8780728578567505,-1.7145237922668457,-1.6919715404510498,-1.676233172416687,-1.6001977920532227,-1.453153133392334,-1.401703119277954,-1.3261516094207764,-1.3366498947143555,-1.3462244272232056,-1.359757900238037,-1.4055405855178833]],[[-1.5683038234710693,-1.4713921546936035,-1.4991638660430908,-1.5281202793121338,-1.5733325481414795,-1.6800671815872192,-1.6978557109832764,-1.6652146577835083,-1.644445776939392]]],[[[3.074120283126831,2.878007173538208,2.879967451095581,2.923381805419922,2.9905412197113037,3.0053551197052,3.0574445724487305,3.1869750022888184,3.204836130142212,3.208513021469116]],[[2.884540319442749,2.8719279766082764,2.793013095855713,2.7341599464416504,2.706186532974243,2.6645452976226807,2.6317899227142334,2.240186929702759,2.1783080101013184,2.150986671447754,2.1095423698425293,2.1836366653442383,2.193317174911499,2.3521625995635986,2.5229392051696777,2.821312189102173,2.863924026489258,2.8698008060455322,2.8790335655212402,2.884143590927124]],[[0.6973987817764282,0.4739398956298828,0.5010803937911987,0.6781109571456909,0.7911114692687988,0.7907561659812927]]],[[[5.68432092666626,5.851085662841797,6.23486852645874,6.2532877922058105,6.296793460845947,6.295223236083984,6.107119083404541,6.070453643798828,5.953398704528809,5.809510231018066,5.74310827255249,5.667925834655762,5.600984573364258,5.5504608154296875,5.522466659545898,5.532937049865723,5.536543369293213,5.653095722198486]]],[[[6.517251014709473,6.544611930847168,6.583235263824463,6.64017915725708,6.722803592681885,6.775339126586914,6.721197605133057,6.692885398864746,6.613624572753906,6.5434699058532715]],[[7.045707702636719,6.722143650054932,6.434892177581787,6.404854774475098,6.4257707595825195,6.447227954864502,6.665841102600098,6.67406702041626,6.72573709487915,6.740139961242676,6.978383541107178,7.037286281585693]]],[[[4.275744438171387,4.230922222137451,4.266510486602783,4.2821044921875,4.407874584197998,4.4477410316467285,4.454300880432129,4.467865467071533,4.460668087005615,4.440993309020996]],[[5.327397346496582,5.623879909515381,5.635571002960205,5.718411445617676,5.74899959564209,5.764115810394287,5.735641956329346,5.603602886199951,5.251664161682129,5.203512668609619,5.161858558654785,5.1513776779174805,5.139646053314209,5.136221408843994,5.114325523376465,5.145868301391602]]],[[[-0.3269585072994232,-0.37361010909080505,-0.3508937358856201,-0.15711791813373566,0.03570137917995453,0.06921394914388657,0.21676452457904816,0.2854422330856323,0.2622838616371155,0.23592421412467957,0.21202018857002258,-0.04972785338759422,-0.11962597817182541,-0.22026637196540833,-0.30769166350364685]]],[[[5.748929500579834,5.848820209503174,5.888295650482178,5.8961920738220215,5.890439987182617,5.8835625648498535,5.821005344390869,5.697907447814941,5.600428104400635,5.536113262176514,5.504704475402832,5.4609174728393555,5.469574451446533,5.631795883178711,5.67214822769165]],[[7.044992446899414,6.189225673675537,6.1382269859313965,6.040895462036133,5.997250556945801,5.992114067077637,6.001606464385986,6.02492094039917,6.156641006469727,6.399837970733643,6.546745777130127,6.7780070304870605,6.876958847045898,6.998367786407471,7.137114524841309,7.140691757202148,7.141033172607422,7.1271467208862305,7.093486785888672]]],[[[3.404012441635132,3.024353265762329,3.0392661094665527,3.1124985218048096,3.3565399646759033,3.4661660194396973,3.5571281909942627,3.643237590789795,3.649482488632202,3.646839141845703,3.6202566623687744,3.504985809326172]],[[2.846285343170166,2.8300650119781494,2.8306853771209717,2.8880412578582764,2.923292875289917,2.9748642444610596,3.059095621109009,3.097830057144165,3.1139943599700928,3.1322484016418457,3.141023874282837,3.0698628425598145,3.041778802871704,2.897099733352661]]],[[[3.2244856357574463,3.1910181045532227,3.167401075363159,3.065281867980957,2.9709794521331787,2.8903720378875732,2.6370112895965576,2.5654449462890625,2.521315574645996,2.5232083797454834,2.5717289447784424,2.594806671142578,2.7106363773345947,2.7334954738616943,2.824565887451172,2.865903615951538,2.987731695175171,3.0445609092712402,3.054086208343506,3.0780603885650635,3.2113943099975586]],[[3.0986952781677246,3.0979936122894287,3.128283977508545,3.1417555809020996,3.1839852333068848,3.268200397491455,3.293647289276123,3.349546432495117,3.3088808059692383,3.229142189025879,3.1793212890625]]],[[[1.1929771900177002,1.1981250047683716,1.1776148080825806,0.9668168425559998,0.8285869359970093,0.6016403436660767,0.5094046592712402,0.4911816120147705,0.49873024225234985,0.5759063363075256,0.6651440262794495,0.8529136180877686,1.1219674348831177]]],[[[1.6477950811386108,1.7564630508422852,1.7996292114257812,1.8989933729171753,1.9233413934707642,2.050542116165161,2.0592799186706543,2.058216094970703,2.05239200592041,2.0328423976898193,1.9919706583023071,1.829105019569397,1.6625447273254395,1.5686416625976562,1.4828826189041138,1.4671627283096313,1.464737057685852,1.579132080078125]],[[1.6719236373901367,1.6843440532684326,1.7177455425262451,1.761649489402771,1.781429648399353,1.9325908422470093,1.9093350172042847,1.873057246208191,1.830680012702942,1.7682857513427734,1.7356057167053223,1.7160285711288452]],[[0.09951207041740417,0.10885041207075119,0.0892329141497612,0.07395771145820618,-0.0007319406722672284,-0.22873088717460632,-0.24715927243232727,-0.14569994807243347,-0.13428995013237,-0.09716758131980896,-0.008973313495516777]],[[2.136714220046997,2.052854061126709,2.042715072631836,2.0417332649230957,2.049053192138672,2.079271078109741,2.1921520233154297,2.2811381816864014,2.305206298828125,2.2676916122436523]]],[[[6.428869247436523,6.410306453704834,6.440685749053955,6.450114727020264,6.489504814147949,6.5178914070129395,6.621632099151611,6.657470226287842,6.843103885650635,6.951735973358154,7.020504951477051,7.039492130279541,7.0524821281433105,7.10245418548584,7.089559078216553,6.619563102722168,6.593547821044922]],[[7.17111873626709,7.135931015014648,7.114943504333496,7.099062919616699,7.219929218292236,7.251442909240723,7.326186180114746,7.33371639251709,7.336053848266602,7.33827018737793,7.33498477935791,7.261142253875732]]],[[[0.7594794631004333,0.3565826117992401,0.21444500982761383,0.19926151633262634,0.20106837153434753,0.24764642119407654,0.3515048325061798,0.5120140910148621,0.6129268407821655,0.6516875624656677,0.8274623155593872,0.8082531094551086]],[[0.7547852993011475,0.761256217956543,0.939704418182373,1.0572574138641357,1.0855493545532227,1.0801992416381836,0.8853839039802551,0.833972156047821,0.8231933116912842,0.8056364059448242]]],[[[8.78941535949707,8.742157936096191,8.723038673400879,8.53812313079834,8.487548828125,8.160040855407715,8.11644458770752,8.107954025268555,8.057910919189453,7.935379505157471,7.939841270446777,7.972848892211914,8.263975143432617,8.541738510131836,8.548931121826172,8.568657875061035]]],[[[4.407562255859375,4.320594787597656,4.329308032989502,4.4836297035217285,4.529196262359619,4.537559509277344,4.623135566711426,4.693031311035156,4.87737512588501,4.941864967346191,4.947699069976807,4.925114631652832,4.5339789390563965,4.463559150695801]]],[[[-0.7508406639099121,-0.610373854637146,-0.5431577563285828,-0.4423961937427521,-0.4092930853366852,-0.39664244651794434,-0.39447659254074097,-0.4616444706916809,-0.5662479400634766,-0.6521027088165283,-0.7167595624923706,-0.7507681846618652,-0.7932107448577881,-0.8660287261009216,-0.883508026599884,-0.8913118839263916,-0.9197197556495667,-0.8377394676208496]]],[[[-0.35470375418663025,-0.322201132774353,-0.2571026682853699,0.051321983337402344,0.08877039700746536,0.15912316739559174,0.19951006770133972,0.21338745951652527,0.19907669723033905,0.12041699886322021,0.03491533175110817,-0.024486642330884933,-0.18770329654216766,-0.2049529254436493,-0.22459684312343597,-0.27150264382362366,-0.3409518301486969]]],[[[2.8083720207214355,2.8150570392608643,2.8602781295776367,2.8794150352478027,3.0128672122955322,3.1861395835876465,3.3304941654205322,3.3530004024505615,3.403740644454956,3.4596331119537354,3.382019519805908,3.128460645675659,3.117957830429077,2.92016863822937]],[[9.018302917480469,8.972443580627441,8.985322952270508,9.070253372192383,9.078606605529785,9.081586837768555,9.061908721923828]]],[[[-1.0829585790634155,-1.0852422714233398,-1.0139362812042236,-1.004733681678772,-0.9103817939758301,-0.8908016085624695,-0.872521162033081,-0.7726463675498962,-0.6244124174118042,-0.6060569882392883,-0.6058228015899658,-0.6431223750114441,-0.7062839269638062,-0.742994487285614,-1.0771523714065552]]],[[[0.5386199951171875,0.40556707978248596,0.41809970140457153,0.4616495370864868,0.47756022214889526,0.5633985996246338,0.6209267377853394,0.7870143055915833,0.8125437498092651,0.8261042237281799,0.8432954549789429,0.8462823629379272,0.8275569677352905,0.738622784614563,0.6903506517410278,0.5841105580329895]]],[[[5.127378940582275,4.922244548797607,4.778564929962158,4.774991989135742,4.786987781524658,4.861277103424072,4.938915729522705,5.024320125579834,5.146841526031494,5.188774585723877,5.184147357940674,5.138113021850586]]],[[[-0.1923801749944687,-0.065095916390419,-0.044893279671669006,0.046596113592386246,0.04531123489141464,-0.020252123475074768,-0.1988159567117691,-0.2550285756587982,-0.28287601470947266,-0.29566577076911926,-0.21727366745471954]]],[[[-0.6715354323387146,-0.8065698146820068,-0.7851632237434387,-0.7225971817970276,-0.6447327733039856,-0.5077714920043945,-0.5104809403419495,-0.5695244669914246,-0.5725983381271362,-0.6458157300949097]],[[1.0533316135406494,1.0960025787353516,1.2311183214187622,1.2425217628479004,1.2191110849380493,1.1919444799423218,1.1609978675842285,1.112229585647583]],[[4.393433094024658,4.413722515106201,4.51931095123291,4.532177448272705,4.604456901550293,4.724449634552002,4.725710391998291,4.779596328735352,4.746995449066162,4.688251495361328,4.5477705001831055,4.40740442276001]]],[[[-0.38628074526786804,-0.3107706308364868,-0.21970757842063904,-0.13320568203926086,-0.1261112242937088,0.013680437579751015,0.02483890950679779,-0.05500306561589241,-0.12148237228393555,-0.29610371589660645]]],[[[5.145619869232178,5.38033390045166,5.380311965942383,5.377723693847656,5.358470439910889,5.356387138366699,5.31812858581543,5.067113876342773,5.033578872680664,4.967069149017334,4.833954334259033,4.865903377532959,4.914562702178955,4.938012599945068,5.044836044311523]]],[[[1.3673852682113647,1.2249418497085571,0.7543975710868835,0.5388244986534119,0.5752578973770142,0.5796752572059631,0.7079213261604309,1.035754919052124,1.210688591003418,1.257737398147583,1.3317546844482422]]],[[[4.352071285247803,4.409660339355469,4.5176849365234375,4.639395236968994,4.7409749031066895,4.772015571594238,4.7849297523498535,4.7733283042907715,4.530320644378662,4.405521869659424,4.3886942863464355]]],[[[6.286766052246094,6.417751312255859,6.353285789489746,6.285538673400879,6.187371253967285,6.142431735992432,6.111024856567383,6.109372138977051,6.161403179168701]],[[5.750898838043213,5.843430042266846,5.928338050842285,6.014362335205078,6.063461780548096,6.082210540771484,5.901129722595215,5.877526760101318,5.873610973358154]]],[[[1.0098721981048584,0.977175235748291,0.6663534641265869,0.6159927248954773,0.5915675759315491,0.6034139394760132,0.7183189392089844,0.8866463899612427,0.9304861426353455]]],[[[5.536494255065918,5.537243843078613,5.303063869476318,5.16419792175293,5.139774322509766,5.0125274658203125,5.013786792755127,5.104811668395996,5.188333034515381,5.217510223388672,5.344974994659424,5.515017986297607]]]],\"y\":[[[[11.991924285888672,12.513042449951172,12.573226928710938,12.580702781677246,12.647083282470703,12.668129920959473,12.67757511138916,12.648934364318848,12.584674835205078,12.536069869995117,12.516101837158203,12.442794799804688,12.064542770385742,11.841043472290039,11.792302131652832,11.72430419921875,11.682389259338379,11.66511058807373,11.65478515625,11.653017044067383,11.651911735534668,11.865852355957031,11.911674499511719,11.95058822631836]],[[11.223121643066406,11.028665542602539,11.0281982421875,11.189719200134277,11.433126449584961,11.512063026428223,11.55709171295166,11.620550155639648,11.611741065979004,11.5791654586792,11.443550109863281]],[[12.433635711669922,12.350140571594238,12.093216896057129,12.011116027832031,11.949828147888184,11.995413780212402,12.364179611206055,12.38955307006836,12.431842803955078,12.4753999710083,12.549529075622559,12.592321395874023,12.617705345153809,12.647665977478027,12.648557662963867,12.644853591918945,12.511075973510742,12.460293769836426]],[[10.837510108947754,10.824517250061035,10.85960578918457,11.097756385803223,11.162607192993164,11.190877914428711,11.203631401062012,11.178716659545898,11.13171672821045,11.119569778442383,11.053582191467285,10.943889617919922]],[[12.662288665771484,12.770722389221191,12.867864608764648,12.897034645080566,12.897543907165527,12.816327095031738,12.703944206237793,12.682123184204102,12.663543701171875]],[[12.24969482421875,11.972731590270996,11.871169090270996,11.841387748718262,11.84492015838623,11.881677627563477,12.069891929626465,12.103578567504883,12.271528244018555,12.320695877075195,12.305906295776367]],[[11.471894264221191,11.331952095031738,11.278218269348145,11.25927448272705,11.264604568481445,11.287032127380371,11.298982620239258,11.368168830871582,11.518291473388672,11.578445434570312,11.530896186828613,11.507530212402344]]],[[[5.161548614501953,5.327169895172119,5.4834303855896,5.54546594619751,5.624941349029541,5.711353778839111,5.730298042297363,5.792663097381592,5.85032320022583,5.836192607879639,5.799696922302246,5.46746301651001,5.435795307159424,5.410012722015381,5.376002788543701,5.161639213562012,5.105797290802002,4.929849624633789,4.880039691925049,4.874338150024414,4.8666205406188965,5.0736613273620605]],[[6.5034918785095215,6.590385913848877,6.660909175872803,6.673648357391357,6.667697429656982,6.484769821166992,6.446190357208252,6.345081806182861,6.120783805847168,5.843775749206543,5.750703811645508,5.736422061920166,5.746823310852051,5.775083541870117,5.874213695526123,6.446404933929443]],[[4.8102240562438965,4.963179588317871,4.99411153793335,5.044151782989502,5.024771690368652,4.960692405700684,4.918234825134277,4.848353385925293]],[[4.778657913208008,4.601485252380371,4.6074395179748535,4.6153564453125,4.628350257873535,4.694443702697754,4.831029891967773,4.838987350463867,4.87621545791626,4.879863739013672,4.85499906539917]],[[5.642390251159668,5.855282783508301,5.8804192543029785,5.887582302093506,5.886359691619873,5.885841369628906,5.865647792816162,5.863550662994385,5.846463680267334,5.821848392486572,5.609241008758545,5.541797637939453,5.5174880027771,5.530323028564453]],[[5.201319694519043,5.194878101348877,5.2487921714782715,5.253410339355469,5.342156887054443,5.445463180541992,5.528489589691162,5.531482219696045,5.508063793182373,5.442134380340576,5.318543434143066,5.285533428192139,5.274013519287109,5.219268321990967]]],[[[5.943244457244873,6.881685256958008,6.959953308105469,6.9954986572265625,7.082535266876221,7.075494289398193,6.994861602783203,6.915762424468994,6.88961124420166,6.767664432525635,6.6292009353637695,5.244422912597656,5.047538757324219,4.986459255218506,4.9195098876953125,4.8876118659973145,4.883215427398682,4.9721503257751465,5.01072883605957,5.914395809173584]]],[[[8.364070892333984,7.34840202331543,7.288417816162109,7.269238471984863,7.195310115814209,7.1722211837768555,7.159243583679199,6.967101573944092,6.9423136711120605,6.990189552307129,7.014033317565918,7.041180610656738,7.249476909637451,7.281777381896973,8.466179847717285,8.507247924804688,8.52535629272461,8.536544799804688,8.548178672790527,8.54664421081543,8.482559204101562,8.392760276794434]]],[[[9.623196601867676,10.171149253845215,10.236226081848145,10.258247375488281,10.26366138458252,10.303264617919922,10.32129192352295,10.325700759887695,10.123499870300293,10.119648933410645,9.9042387008667,9.716937065124512,9.658721923828125,9.578794479370117,9.565134048461914,9.547348976135254,9.567076683044434]],[[10.333625793457031,10.27280330657959,10.236915588378906,10.193205833435059,10.180083274841309,10.195639610290527,10.287365913391113,10.323561668395996,10.362480163574219,10.41593074798584,10.423272132873535]]],[[[4.597843170166016,4.362786293029785,4.354901313781738,4.358211994171143,4.722370624542236,4.866872310638428,4.908263206481934,5.276748180389404,5.3735880851745605,5.4207940101623535,5.432173252105713,5.441390037536621,5.4501729011535645,5.453009605407715,5.3532891273498535,5.297801971435547,5.212692737579346,5.183995246887207]]],[[[5.432508945465088,4.749716281890869,4.949894905090332,5.089019775390625,5.515054702758789,5.5863938331604,5.630371570587158,5.790909767150879,5.785297393798828,5.694942474365234,5.519986629486084,5.498953819274902]],[[5.200954914093018,5.184925079345703,5.196092128753662,5.278922080993652,5.3016157150268555,5.317934513092041,5.334124565124512,5.403374195098877,5.430222034454346,5.4107513427734375,5.372105598449707,5.34597110748291,5.32356071472168,5.273942947387695]]],[[[7.589580535888672,7.429279804229736,7.395092487335205,7.386878490447998,7.378693103790283,7.402148246765137,7.594828128814697,7.707040786743164,7.714133262634277,7.753260135650635,7.777410507202148,7.6555562019348145,7.639310359954834]],[[8.992941856384277,8.838102340698242,8.805163383483887,8.77310848236084,8.7835111618042,8.836952209472656,8.96532154083252,8.985405921936035,9.039860725402832,9.073925018310547,9.081050872802734,9.112064361572266,9.085759162902832,9.065410614013672]],[[9.701361656188965,9.191009521484375,9.17765998840332,9.156636238098145,9.06529426574707,9.049485206604004,9.091092109680176,9.136994361877441,9.203459739685059,9.257948875427246,9.3986234664917,9.424063682556152,9.432516098022461,9.731769561767578,9.842039108276367,9.845239639282227,9.83454418182373]],[[9.638848304748535,9.670268058776855,9.670618057250977,9.781819343566895,9.876562118530273,10.018880844116211,10.02115249633789,10.02165699005127,10.019545555114746,9.993760108947754,9.893338203430176,9.707677841186523,9.688836097717285,9.681300163269043]],[[9.450111389160156,9.348807334899902,9.349876403808594,9.518403053283691,9.549118041992188,9.572834968566895,9.575979232788086,9.561149597167969,9.49864673614502]]],[[[7.700301170349121,8.43465518951416,8.611876487731934,8.68708324432373,8.703191757202148,8.524486541748047,8.510108947753906,8.41475772857666,8.155621528625488,8.124985694885254,8.02347183227539,7.875849723815918,7.798573970794678,7.699660301208496,7.609408378601074,7.616783618927002,7.625844955444336]]],[[[5.781839847564697,5.922276973724365,6.054736137390137,6.058658123016357,6.077831745147705,6.066396713256836,6.043822765350342,5.399645805358887,5.298271179199219,5.245268821716309,5.203160762786865,5.16781759262085,5.1788506507873535,5.2523651123046875,5.704206943511963,5.752694606781006]],[[5.031410217285156,5.163548946380615,5.207273960113525,5.208474159240723,5.197950839996338,5.149470806121826,5.110892295837402,5.027093887329102,4.996952533721924,4.970082759857178,4.913254737854004,4.882254600524902,4.9014506340026855]],[[5.637742042541504,5.576083183288574,5.546360492706299,5.609816551208496,5.751832008361816,5.9064202308654785,5.976689338684082,5.930893898010254,5.8974690437316895,5.651933193206787]],[[5.423051834106445,5.287688255310059,5.294047832489014,5.318542957305908,5.382458209991455,5.4274468421936035,5.502345085144043,5.496756553649902]]],[[[9.393381118774414,9.621689796447754,9.640511512756348,9.680672645568848,9.700601577758789,9.841009140014648,9.929874420166016,9.952333450317383,9.976445198059082,9.992833137512207,10.033263206481934,10.036394119262695,10.041000366210938,10.035443305969238,10.02284049987793,10.018431663513184,9.984309196472168,9.601633071899414,9.486196517944336,9.453775405883789,9.404396057128906,9.39251708984375]],[[9.991268157958984,9.890544891357422,9.878307342529297,9.900569915771484,10.027191162109375,10.071308135986328,10.284958839416504,10.338041305541992,10.372396469116211,10.293270111083984,10.285796165466309,10.06777572631836,10.05145263671875]],[[9.615425109863281,9.594134330749512,9.53637981414795,9.493908882141113,9.45689582824707,9.389369010925293,9.339634895324707,9.3298978805542,9.29843807220459,9.301567077636719,9.33627700805664,9.453535079956055,9.606474876403809]],[[10.281608581542969,10.390527725219727,10.499571800231934,10.534366607666016,10.440594673156738,10.369119644165039]]],[[[7.6657819747924805,7.888811111450195,7.927370548248291,8.04111385345459,8.113226890563965,8.283463478088379,8.298336029052734,8.358536720275879,8.382026672363281,8.333702087402344,8.087514877319336,8.034342765808105,8.019686698913574,7.996716499328613,7.936456203460693,7.856368064880371,7.679254531860352]]],[[[8.063486099243164,7.910505771636963,7.845516681671143,7.471494674682617,7.377045631408691,7.373885631561279,7.233390808105469,7.225341320037842,7.257972240447998,7.297336578369141,7.379493713378906,7.462713241577148,7.556431293487549,7.598294734954834,7.882591247558594,7.973892688751221,8.024930000305176,8.071822166442871,8.083026885986328]],[[7.612619876861572,7.677999496459961,7.67763090133667,7.667936325073242,7.609875202178955,7.572513103485107,7.545956611633301,7.4498748779296875,7.419854640960693,7.3954033851623535,7.393380165100098,7.448727607727051,7.5579986572265625,7.5829267501831055]]],[[[6.912535667419434,6.52456521987915,6.306859970092773,6.302696704864502,6.325098991394043,6.863110065460205,6.984009742736816,7.056159973144531,7.065528392791748,7.089652061462402,7.115044593811035,7.119533061981201,7.180657863616943,7.146012306213379,7.128460884094238,7.059983253479004,7.0222554206848145,6.999626636505127]],[[6.26376485824585,6.235783100128174,6.177663803100586,6.055134296417236,6.049940586090088,6.057052135467529]],[[7.341542720794678,7.3115997314453125,7.3196120262146,7.324901103973389,7.337773323059082,7.392731189727783,7.462157249450684,7.515498161315918,7.590958595275879,7.616345405578613,7.568811893463135,7.503790855407715,7.443253040313721,7.370606422424316]]],[[[6.246667861938477,6.292002201080322,6.210755825042725,6.0116496086120605,5.919271469116211,5.616264820098877,5.56957483291626,5.559294700622559,5.556713104248047,5.589226245880127,5.698788166046143,5.719335556030273,5.814868450164795,5.829757213592529,6.039316177368164,6.099442005157471]],[[8.771162033081055,8.714099884033203,8.816125869750977,8.868547439575195,8.971895217895508,9.040040969848633,8.991594314575195,8.981462478637695,8.963027954101562,8.9367036819458,8.82760238647461]],[[10.02868366241455,9.983295440673828,9.935020446777344,9.941948890686035,9.969063758850098,10.032657623291016,10.121356964111328,10.124814987182617,10.120749473571777]],[[11.0122652053833,10.974752426147461,10.959823608398438,11.010720252990723,11.040361404418945,11.077202796936035,11.18443489074707,11.242058753967285,11.249594688415527,11.24697494506836,11.200407981872559,11.127184867858887]]],[[[10.628718376159668,9.744165420532227,9.65610408782959,9.661650657653809,9.71947193145752,9.7540283203125,9.813863754272461,9.877272605895996,9.98437786102295,10.43217658996582,10.542984962463379,10.633485794067383,10.659344673156738,10.725939750671387,10.737395286560059]]],[[[8.046826362609863,7.961549282073975,7.891239643096924,7.533459663391113,7.395063400268555,7.34611177444458,7.345074653625488,7.3461151123046875,7.4125566482543945,7.590969562530518,7.712667465209961,7.937894821166992,7.980350971221924,8.01356029510498,8.027998924255371,8.03475570678711]],[[7.051175117492676,7.299736499786377,7.327856540679932,7.355438709259033,7.356110572814941,7.314538955688477,7.288596153259277,7.175876617431641,7.114030838012695]]],[[[10.458527565002441,10.35326099395752,10.196581840515137,10.16578197479248,10.141031265258789,10.135589599609375,10.156074523925781,10.211360931396484,10.354890823364258,10.395920753479004]],[[9.853653907775879,9.9733247756958,10.021137237548828,10.022956848144531,10.016955375671387,10.004319190979004,9.98972225189209,9.703489303588867,9.628222465515137,9.526250839233398,9.371025085449219,9.28660774230957,9.279845237731934,9.307531356811523,9.39050579071045,9.715493202209473,9.78273868560791,9.795928955078125,9.81856918334961,9.835062026977539]],[[10.9061861038208,10.821435928344727,10.708356857299805,10.641154289245605,10.71157455444336,10.757698059082031]]],[[[8.025538444519043,8.059667587280273,8.280860900878906,8.301836967468262,8.499985694885254,8.511280059814453,8.83184814453125,8.854837417602539,8.86150074005127,8.829119682312012,8.78697395324707,8.725373268127441,8.608036041259766,8.45700454711914,8.252338409423828,8.176711082458496,8.157429695129395,8.046191215515137]]],[[[10.182870864868164,10.020157814025879,9.95423698425293,9.950166702270508,9.99724292755127,10.249703407287598,10.338924407958984,10.343114852905273,10.310755729675293,10.254826545715332]],[[10.780899047851562,11.056885719299316,11.08410358428955,11.024055480957031,10.909333229064941,10.843949317932129,10.458495140075684,10.451228141784668,10.414721488952637,10.41301441192627,10.522398948669434,10.553842544555664]]],[[[6.784730911254883,6.647325038909912,6.606217384338379,6.596926212310791,6.625679969787598,6.658856391906738,6.679562091827393,6.772813320159912,6.7868242263793945,6.799616813659668]],[[6.884364128112793,6.922067642211914,6.937352180480957,7.047628879547119,7.1496381759643555,7.231491565704346,7.347155570983887,7.477555751800537,7.579369068145752,7.588237285614014,7.570301532745361,7.555010795593262,7.51985502243042,7.476170539855957,7.087300777435303,7.0067830085754395]]],[[[10.288631439208984,10.131927490234375,9.911181449890137,9.405096054077148,9.337104797363281,9.328843116760254,9.316912651062012,9.399948120117188,9.617565155029297,9.747739791870117,9.804251670837402,10.14195728302002,10.197121620178223,10.254977226257324,10.298957824707031]]],[[[7.653640270233154,7.6995768547058105,7.732673168182373,7.776200294494629,7.870767593383789,7.891717910766602,7.945729732513428,8.024441719055176,8.041328430175781,8.03658390045166,8.02407455444336,8.005531311035156,7.908168792724609,7.687625885009766,7.665011882781982]],[[7.59827995300293,7.706206798553467,7.702104568481445,7.690634250640869,7.613428115844727,7.532808780670166,7.488912105560303,7.463387966156006,7.356749057769775,7.218061447143555,7.192925453186035,7.244359970092773,7.278224468231201,7.333913803100586,7.432199954986572,7.475142478942871,7.494022369384766,7.533452033996582,7.576884746551514]]],[[[9.218440055847168,8.65500545501709,8.525382995605469,8.449345588684082,8.336878776550293,8.318641662597656,8.357370376586914,8.408332824707031,8.456596374511719,9.05772590637207,9.116259574890137,9.239666938781738]],[[8.941718101501465,8.876444816589355,8.873885154724121,8.759834289550781,8.737777709960938,8.73270320892334,8.768767356872559,8.786657333374023,8.801494598388672,8.823891639709473,8.894495964050293,8.956916809082031,8.972286224365234,8.990038871765137]]],[[[8.332989692687988,8.435456275939941,8.458322525024414,8.518271446228027,8.511585235595703,8.49516773223877,8.431794166564941,8.404701232910156,8.33270263671875,8.304019927978516,8.0366849899292,8.003619194030762,7.88069486618042,7.857131004333496,7.8176422119140625,7.808562755584717,7.827790260314941,7.868386268615723,7.889679431915283,7.94477653503418,8.288670539855957]],[[8.12922477722168,8.066882133483887,8.011260032653809,8.00063419342041,7.980114936828613,7.995215892791748,8.000324249267578,8.103089332580566,8.162652969360352,8.220062255859375,8.186980247497559]]],[[[7.559260845184326,7.625175952911377,7.66487455368042,8.040142059326172,8.177138328552246,8.238999366760254,8.199433326721191,8.169975280761719,8.04345989227295,7.836103439331055,7.742952346801758,7.558358669281006,7.466445446014404]]],[[[11.208573341369629,11.159247398376465,11.16797161102295,11.238542556762695,11.283792495727539,11.534573554992676,11.57567310333252,11.591144561767578,11.629307746887207,11.669943809509277,11.69687557220459,11.765344619750977,11.714048385620117,11.617233276367188,11.509931564331055,11.451448440551758,11.396233558654785,11.276735305786133]],[[10.93947982788086,10.879326820373535,10.814764022827148,10.75777530670166,10.765748977661133,10.868274688720703,10.952805519104004,10.982342720031738,11.005884170532227,11.03936767578125,11.025476455688477,11.003791809082031]],[[4.742384433746338,4.852308750152588,4.87197208404541,4.882298946380615,4.88084077835083,4.837441921234131,4.813766002655029,4.7209343910217285,4.711210250854492,4.692598819732666,4.6913933753967285]],[[11.804146766662598,11.722271919250488,11.679752349853516,11.67357063293457,11.653302192687988,11.583955764770508,11.59024715423584,11.631516456604004,11.706252098083496,11.78974723815918]]],[[[9.287651062011719,9.144513130187988,8.977354049682617,8.94808292388916,8.874241828918457,8.835649490356445,8.791580200195312,8.783172607421875,8.8264799118042,8.86037540435791,8.894207954406738,8.903972625732422,8.912738800048828,8.992531776428223,9.09546184539795,9.386871337890625,9.383634567260742]],[[9.086199760437012,9.082589149475098,9.033422470092773,8.939370155334473,8.875771522521973,8.874336242675781,8.929766654968262,8.949201583862305,8.961026191711426,8.995000839233398,9.00063705444336,9.070966720581055]]],[[[11.94461441040039,11.738313674926758,11.407760620117188,11.305387496948242,11.267385482788086,11.244096755981445,11.284757614135742,11.368785858154297,11.428865432739258,11.473976135253906,11.809005737304688,11.915769577026367]],[[11.187952041625977,11.080331802368164,11.010970115661621,11.067022323608398,11.162327766418457,11.242596626281738,11.318039894104004,11.327778816223145,11.327666282653809,11.301800727844238]]],[[[6.929403781890869,7.638160705566406,7.647604942321777,7.691956996917725,7.691858768463135,7.636136054992676,7.627208232879639,7.625291347503662,7.581659317016602,7.431275844573975,7.3709025382995605,7.279149532318115,7.100379467010498,6.978031158447266,6.974965572357178,6.970049858093262]]],[[[8.575843811035156,8.50488567352295,8.344943046569824,8.061521530151367,7.989664077758789,7.978060245513916,7.91865348815918,7.922282695770264,7.987278461456299,8.119999885559082,8.259811401367188,8.27460765838623,8.510093688964844,8.551230430603027]]],[[[5.702515602111816,5.689914226531982,5.753784656524658,5.8603997230529785,5.959741592407227,6.094232082366943,6.218559741973877,6.328876972198486,6.474993705749512,6.525003910064697,6.536044597625732,6.5354485511779785,6.5207390785217285,6.4588775634765625,6.436685562133789,6.423073768615723,6.367574214935303,5.909181594848633]]],[[[7.393926620483398,7.239795684814453,7.217413425445557,7.143129825592041,7.169964790344238,7.2229790687561035,7.314437389373779,7.376746654510498,7.423774242401123,7.636133193969727,7.721668243408203,7.722470760345459,7.663924694061279,7.648893356323242,7.626634120941162,7.552365303039551,7.442026615142822]]],[[[11.433210372924805,11.264504432678223,11.209409713745117,11.193058013916016,11.176054000854492,11.219831466674805,11.279143333435059,11.307882308959961,11.458285331726074,11.626172065734863,11.723114013671875,11.793813705444336,11.795848846435547,11.681933403015137]],[[8.896940231323242,8.719786643981934,8.701200485229492,8.827835083007812,8.842812538146973,8.85094165802002,8.867232322692871]]],[[[11.333309173583984,11.034127235412598,10.865619659423828,10.853841781616211,10.786368370056152,10.779501914978027,10.77582836151123,10.779683113098145,10.864357948303223,10.91478157043457,10.950127601623535,11.088621139526367,11.19484806060791,11.213394165039062,11.337623596191406]]],[[[7.126603126525879,6.910439968109131,6.695513725280762,6.556747913360596,6.520844459533691,6.456545829772949,6.448907852172852,6.601011276245117,6.6447858810424805,6.668186187744141,6.969752311706543,7.062057971954346,7.091772556304932,7.181323528289795,7.20352840423584,7.16315221786499]]],[[[10.854959487915039,10.845069885253906,10.581695556640625,10.562344551086426,10.527168273925781,10.463804244995117,10.466839790344238,10.479744911193848,10.573358535766602,10.65778923034668,10.701400756835938,10.826394081115723]]],[[[8.801493644714355,8.768377304077148,8.771193504333496,8.923566818237305,8.994706153869629,9.18414306640625,9.271814346313477,9.248085021972656,9.174060821533203,9.121813774108887,8.841572761535645]]],[[[9.021535873413086,8.81245231628418,8.777397155761719,8.759912490844727,8.794075012207031,8.90744686126709,8.926742553710938,9.035904884338379,9.037360191345215,9.049745559692383]],[[9.008642196655273,8.897736549377441,8.876421928405762,8.89986801147461,8.979899406433105,9.042835235595703,9.04544734954834,9.038883209228516]],[[9.479125022888184,9.354523658752441,9.304569244384766,9.299049377441406,9.31669807434082,9.378536224365234,9.379398345947266,9.565862655639648,9.66287899017334,9.678372383117676,9.665589332580566,9.549386978149414]]],[[[11.025701522827148,10.792505264282227,10.737171173095703,10.706891059875488,10.706501960754395,10.800872802734375,10.991527557373047,11.038043975830078,11.074030876159668,11.057162284851074]]],[[[6.258213043212891,6.419160842895508,6.437959671020508,6.472829818725586,6.517801761627197,6.5223708152771,6.565425395965576,6.64023494720459,6.637233734130859,6.617923736572266,6.488786697387695,6.397488594055176,6.293323040008545,6.267699241638184,6.234687805175781]]],[[[8.407393455505371,8.593940734863281,8.709962844848633,8.628371238708496,8.572273254394531,8.568042755126953,8.469932556152344,8.239893913269043,8.210599899291992,8.225516319274902,8.271100997924805]]],[[[11.349906921386719,11.318527221679688,11.275678634643555,11.297222137451172,11.373745918273926,11.419209480285645,11.557000160217285,11.563759803771973,11.581437110900879,11.54133415222168,11.485493659973145]]],[[[5.731476306915283,5.6930670738220215,5.907588958740234,6.000960350036621,6.045444011688232,6.055281162261963,5.982977867126465,5.9668097496032715,5.854013919830322]],[[6.112308502197266,5.965335845947266,5.984676837921143,6.0122528076171875,6.041254997253418,6.130177974700928,6.231043815612793,6.229473114013672,6.228539943695068]]],[[[10.18677806854248,10.382769584655762,10.417533874511719,10.391550064086914,10.28696060180664,10.158191680908203,10.075075149536133,10.061119079589844,10.065576553344727]]],[[[8.993227005004883,9.232465744018555,9.416972160339355,9.413955688476562,9.407938957214355,9.365507125854492,9.345909118652344,9.089337348937988,9.017560958862305,8.99277400970459,8.95156192779541,8.97445011138916]]]]},\"selected\":{\"id\":\"1210\"},\"selection_policy\":{\"id\":\"1209\"}},\"id\":\"1172\",\"type\":\"ColumnDataSource\"},{\"attributes\":{\"fill_alpha\":{\"value\":0.2},\"fill_color\":{\"field\":\"color\"},\"hatch_alpha\":{\"value\":0.2},\"hatch_color\":{\"field\":\"color\"},\"line_alpha\":{\"value\":0.2},\"line_color\":{\"field\":\"color\"},\"xs\":{\"field\":\"x\"},\"ys\":{\"field\":\"y\"}},\"id\":\"3191\",\"type\":\"MultiPolygons\"}],\"root_ids\":[\"3158\"]},\"title\":\"Bokeh Application\",\"version\":\"2.4.1\"}};\n  const render_items = [{\"docid\":\"4a21fbfa-bd06-484c-bfbd-04da65c4d006\",\"root_ids\":[\"3158\"],\"roots\":{\"3158\":\"e663dfeb-af66-44a6-9ea0-af1b9f3909c3\"}}];\n  root.Bokeh.embed.embed_items_notebook(docs_json, render_items);\n\n  }\n  if (root.Bokeh !== undefined) {\n    embed_document(root);\n  } else {\n    let attempts = 0;\n    const timer = setInterval(function(root) {\n      if (root.Bokeh !== undefined) {\n        clearInterval(timer);\n        embed_document(root);\n      } else {\n        attempts++;\n        if (attempts > 100) {\n          clearInterval(timer);\n          console.log(\"Bokeh: ERROR: Unable to run BokehJS code because BokehJS library is missing\");\n        }\n      }\n    }, 10, root)\n  }\n})(window);",
      "application/vnd.bokehjs_exec.v0+json": ""
     },
     "metadata": {
      "application/vnd.bokehjs_exec.v0+json": {
       "id": "3158"
      }
     }
    }
   ],
   "metadata": {}
  },
  {
   "cell_type": "markdown",
   "source": [
    "Questions : \n",
    "\n",
    "- comment s'assurer que mon projet va correctement fonctionner sur d'autres environnements d'exécution ?\n",
    "- comment déployer mon app sur le web, et automatiser cette procédure ?\n",
    "- comment récupérer les nouveaux documents à échéance régulière ?\n",
    "- comment permettre à des utilisateurs de requêter mon modèle ?"
   ],
   "metadata": {}
  },
  {
   "cell_type": "code",
   "execution_count": null,
   "source": [],
   "outputs": [],
   "metadata": {}
  }
 ],
 "metadata": {
  "kernelspec": {
   "display_name": "Python 3 (ipykernel)",
   "language": "python",
   "name": "python3"
  },
  "language_info": {
   "codemirror_mode": {
    "name": "ipython",
    "version": 3
   },
   "file_extension": ".py",
   "mimetype": "text/x-python",
   "name": "python",
   "nbconvert_exporter": "python",
   "pygments_lexer": "ipython3",
   "version": "3.9.7"
  }
 },
 "nbformat": 4,
 "nbformat_minor": 5
}